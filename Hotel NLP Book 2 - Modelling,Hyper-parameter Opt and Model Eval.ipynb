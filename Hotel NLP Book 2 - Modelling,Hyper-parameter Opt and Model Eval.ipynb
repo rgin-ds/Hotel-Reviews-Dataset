{
 "cells": [
  {
   "cell_type": "markdown",
   "metadata": {},
   "source": [
    "### Let's fit a logistic regression with the solver set to lbfgs."
   ]
  },
  {
   "cell_type": "code",
   "execution_count": 4,
   "metadata": {},
   "outputs": [],
   "source": [
    "# Basic packages\n",
    "import numpy as np\n",
    "import pandas as pd\n",
    "import matplotlib.pyplot as plt\n",
    "\n",
    "# To split the data as necessary for modelling\n",
    "from sklearn.model_selection import train_test_split\n",
    "\n",
    "# To build a simple model\n",
    "from sklearn.linear_model import LogisticRegression\n",
    "\n",
    "# To get rid of logistic regression default solver warnings that appear if sklearn hasn't been updated\n",
    "import warnings\n",
    "warnings.filterwarnings('ignore')\n",
    "\n",
    "# To \"pickle\" things, like accuracies or even an entire fitted model\n",
    "import joblib\n",
    "\n",
    "# To cross-validate\n",
    "from sklearn.model_selection import cross_val_score\n",
    "\n",
    "# To try scaling the data in various ways\n",
    "from sklearn.preprocessing import StandardScaler\n",
    "from sklearn.preprocessing import MinMaxScaler\n",
    "from sklearn.preprocessing import RobustScaler\n",
    "\n",
    "# To try dimensionality reduction\n",
    "from sklearn.decomposition import PCA\n",
    "\n",
    "# To do a cross-validated grid search\n",
    "from sklearn.model_selection import GridSearchCV"
   ]
  },
  {
   "cell_type": "code",
   "execution_count": 8,
   "metadata": {},
   "outputs": [
    {
     "data": {
      "text/html": [
       "<div>\n",
       "<style scoped>\n",
       "    .dataframe tbody tr th:only-of-type {\n",
       "        vertical-align: middle;\n",
       "    }\n",
       "\n",
       "    .dataframe tbody tr th {\n",
       "        vertical-align: top;\n",
       "    }\n",
       "\n",
       "    .dataframe thead th {\n",
       "        text-align: right;\n",
       "    }\n",
       "</style>\n",
       "<table border=\"1\" class=\"dataframe\">\n",
       "  <thead>\n",
       "    <tr style=\"text-align: right;\">\n",
       "      <th></th>\n",
       "      <th>Additional_Number_of_Scoring</th>\n",
       "      <th>Average_Score</th>\n",
       "      <th>Review_Total_Negative_Word_Counts</th>\n",
       "      <th>Total_Number_of_Reviews</th>\n",
       "      <th>Review_Total_Positive_Word_Counts</th>\n",
       "      <th>Total_Number_of_Reviews_Reviewer_Has_Given</th>\n",
       "      <th>days_since_review</th>\n",
       "      <th>lat</th>\n",
       "      <th>lng</th>\n",
       "      <th>Review_Month</th>\n",
       "      <th>...</th>\n",
       "      <th>p_working</th>\n",
       "      <th>p_world</th>\n",
       "      <th>p_worth</th>\n",
       "      <th>p_wouldn</th>\n",
       "      <th>p_year</th>\n",
       "      <th>p_years</th>\n",
       "      <th>p_yes</th>\n",
       "      <th>p_young</th>\n",
       "      <th>p_yummy</th>\n",
       "      <th>Reviewer_Score</th>\n",
       "    </tr>\n",
       "  </thead>\n",
       "  <tbody>\n",
       "    <tr>\n",
       "      <th>0</th>\n",
       "      <td>220.0</td>\n",
       "      <td>9.1</td>\n",
       "      <td>20.0</td>\n",
       "      <td>902.0</td>\n",
       "      <td>21.0</td>\n",
       "      <td>1.0</td>\n",
       "      <td>275.0</td>\n",
       "      <td>51.494308</td>\n",
       "      <td>-0.175558</td>\n",
       "      <td>11.0</td>\n",
       "      <td>...</td>\n",
       "      <td>0.0</td>\n",
       "      <td>0.0</td>\n",
       "      <td>0.0</td>\n",
       "      <td>0.0</td>\n",
       "      <td>0.0</td>\n",
       "      <td>0.000000</td>\n",
       "      <td>0.0</td>\n",
       "      <td>0.0</td>\n",
       "      <td>0.0</td>\n",
       "      <td>1.0</td>\n",
       "    </tr>\n",
       "    <tr>\n",
       "      <th>1</th>\n",
       "      <td>1190.0</td>\n",
       "      <td>7.5</td>\n",
       "      <td>5.0</td>\n",
       "      <td>5180.0</td>\n",
       "      <td>23.0</td>\n",
       "      <td>6.0</td>\n",
       "      <td>481.0</td>\n",
       "      <td>51.514879</td>\n",
       "      <td>-0.160650</td>\n",
       "      <td>4.0</td>\n",
       "      <td>...</td>\n",
       "      <td>0.0</td>\n",
       "      <td>0.0</td>\n",
       "      <td>0.0</td>\n",
       "      <td>0.0</td>\n",
       "      <td>0.0</td>\n",
       "      <td>0.425849</td>\n",
       "      <td>0.0</td>\n",
       "      <td>0.0</td>\n",
       "      <td>0.0</td>\n",
       "      <td>1.0</td>\n",
       "    </tr>\n",
       "    <tr>\n",
       "      <th>2</th>\n",
       "      <td>299.0</td>\n",
       "      <td>8.3</td>\n",
       "      <td>81.0</td>\n",
       "      <td>1361.0</td>\n",
       "      <td>27.0</td>\n",
       "      <td>4.0</td>\n",
       "      <td>672.0</td>\n",
       "      <td>51.521009</td>\n",
       "      <td>-0.123097</td>\n",
       "      <td>10.0</td>\n",
       "      <td>...</td>\n",
       "      <td>0.0</td>\n",
       "      <td>0.0</td>\n",
       "      <td>0.0</td>\n",
       "      <td>0.0</td>\n",
       "      <td>0.0</td>\n",
       "      <td>0.000000</td>\n",
       "      <td>0.0</td>\n",
       "      <td>0.0</td>\n",
       "      <td>0.0</td>\n",
       "      <td>0.0</td>\n",
       "    </tr>\n",
       "    <tr>\n",
       "      <th>3</th>\n",
       "      <td>87.0</td>\n",
       "      <td>9.0</td>\n",
       "      <td>17.0</td>\n",
       "      <td>355.0</td>\n",
       "      <td>13.0</td>\n",
       "      <td>7.0</td>\n",
       "      <td>412.0</td>\n",
       "      <td>51.499749</td>\n",
       "      <td>-0.161524</td>\n",
       "      <td>6.0</td>\n",
       "      <td>...</td>\n",
       "      <td>0.0</td>\n",
       "      <td>0.0</td>\n",
       "      <td>0.0</td>\n",
       "      <td>0.0</td>\n",
       "      <td>0.0</td>\n",
       "      <td>0.000000</td>\n",
       "      <td>0.0</td>\n",
       "      <td>0.0</td>\n",
       "      <td>0.0</td>\n",
       "      <td>1.0</td>\n",
       "    </tr>\n",
       "    <tr>\n",
       "      <th>4</th>\n",
       "      <td>317.0</td>\n",
       "      <td>7.6</td>\n",
       "      <td>14.0</td>\n",
       "      <td>1458.0</td>\n",
       "      <td>0.0</td>\n",
       "      <td>1.0</td>\n",
       "      <td>499.0</td>\n",
       "      <td>51.516114</td>\n",
       "      <td>-0.174952</td>\n",
       "      <td>3.0</td>\n",
       "      <td>...</td>\n",
       "      <td>0.0</td>\n",
       "      <td>0.0</td>\n",
       "      <td>0.0</td>\n",
       "      <td>0.0</td>\n",
       "      <td>0.0</td>\n",
       "      <td>0.000000</td>\n",
       "      <td>0.0</td>\n",
       "      <td>0.0</td>\n",
       "      <td>0.0</td>\n",
       "      <td>0.0</td>\n",
       "    </tr>\n",
       "  </tbody>\n",
       "</table>\n",
       "<p>5 rows × 2587 columns</p>\n",
       "</div>"
      ],
      "text/plain": [
       "   Additional_Number_of_Scoring  Average_Score  \\\n",
       "0                         220.0            9.1   \n",
       "1                        1190.0            7.5   \n",
       "2                         299.0            8.3   \n",
       "3                          87.0            9.0   \n",
       "4                         317.0            7.6   \n",
       "\n",
       "   Review_Total_Negative_Word_Counts  Total_Number_of_Reviews  \\\n",
       "0                               20.0                    902.0   \n",
       "1                                5.0                   5180.0   \n",
       "2                               81.0                   1361.0   \n",
       "3                               17.0                    355.0   \n",
       "4                               14.0                   1458.0   \n",
       "\n",
       "   Review_Total_Positive_Word_Counts  \\\n",
       "0                               21.0   \n",
       "1                               23.0   \n",
       "2                               27.0   \n",
       "3                               13.0   \n",
       "4                                0.0   \n",
       "\n",
       "   Total_Number_of_Reviews_Reviewer_Has_Given  days_since_review        lat  \\\n",
       "0                                         1.0              275.0  51.494308   \n",
       "1                                         6.0              481.0  51.514879   \n",
       "2                                         4.0              672.0  51.521009   \n",
       "3                                         7.0              412.0  51.499749   \n",
       "4                                         1.0              499.0  51.516114   \n",
       "\n",
       "        lng  Review_Month  ...  p_working  p_world  p_worth  p_wouldn  p_year  \\\n",
       "0 -0.175558          11.0  ...        0.0      0.0      0.0       0.0     0.0   \n",
       "1 -0.160650           4.0  ...        0.0      0.0      0.0       0.0     0.0   \n",
       "2 -0.123097          10.0  ...        0.0      0.0      0.0       0.0     0.0   \n",
       "3 -0.161524           6.0  ...        0.0      0.0      0.0       0.0     0.0   \n",
       "4 -0.174952           3.0  ...        0.0      0.0      0.0       0.0     0.0   \n",
       "\n",
       "    p_years  p_yes  p_young  p_yummy  Reviewer_Score  \n",
       "0  0.000000    0.0      0.0      0.0             1.0  \n",
       "1  0.425849    0.0      0.0      0.0             1.0  \n",
       "2  0.000000    0.0      0.0      0.0             0.0  \n",
       "3  0.000000    0.0      0.0      0.0             1.0  \n",
       "4  0.000000    0.0      0.0      0.0             0.0  \n",
       "\n",
       "[5 rows x 2587 columns]"
      ]
     },
     "execution_count": 8,
     "metadata": {},
     "output_type": "execute_result"
    }
   ],
   "source": [
    "# Loading in the data and taking a look\n",
    "df_train = pd.read_csv('train_dataframe.csv')\n",
    "df_test = pd.read_csv('test_dataframe.csv')\n",
    "\n",
    "df_train.head()"
   ]
  },
  {
   "cell_type": "code",
   "execution_count": 9,
   "metadata": {
    "scrolled": true
   },
   "outputs": [
    {
     "data": {
      "text/html": [
       "<div>\n",
       "<style scoped>\n",
       "    .dataframe tbody tr th:only-of-type {\n",
       "        vertical-align: middle;\n",
       "    }\n",
       "\n",
       "    .dataframe tbody tr th {\n",
       "        vertical-align: top;\n",
       "    }\n",
       "\n",
       "    .dataframe thead th {\n",
       "        text-align: right;\n",
       "    }\n",
       "</style>\n",
       "<table border=\"1\" class=\"dataframe\">\n",
       "  <thead>\n",
       "    <tr style=\"text-align: right;\">\n",
       "      <th></th>\n",
       "      <th>Additional_Number_of_Scoring</th>\n",
       "      <th>Average_Score</th>\n",
       "      <th>Review_Total_Negative_Word_Counts</th>\n",
       "      <th>Total_Number_of_Reviews</th>\n",
       "      <th>Review_Total_Positive_Word_Counts</th>\n",
       "      <th>Total_Number_of_Reviews_Reviewer_Has_Given</th>\n",
       "      <th>days_since_review</th>\n",
       "      <th>lat</th>\n",
       "      <th>lng</th>\n",
       "      <th>Review_Month</th>\n",
       "      <th>...</th>\n",
       "      <th>p_working</th>\n",
       "      <th>p_world</th>\n",
       "      <th>p_worth</th>\n",
       "      <th>p_wouldn</th>\n",
       "      <th>p_year</th>\n",
       "      <th>p_years</th>\n",
       "      <th>p_yes</th>\n",
       "      <th>p_young</th>\n",
       "      <th>p_yummy</th>\n",
       "      <th>Reviewer_Score</th>\n",
       "    </tr>\n",
       "  </thead>\n",
       "  <tbody>\n",
       "    <tr>\n",
       "      <th>0</th>\n",
       "      <td>2288.0</td>\n",
       "      <td>8.1</td>\n",
       "      <td>24.0</td>\n",
       "      <td>9568.0</td>\n",
       "      <td>16.0</td>\n",
       "      <td>1.0</td>\n",
       "      <td>527.0</td>\n",
       "      <td>51.511099</td>\n",
       "      <td>-0.120867</td>\n",
       "      <td>2.0</td>\n",
       "      <td>...</td>\n",
       "      <td>0.0</td>\n",
       "      <td>0.0</td>\n",
       "      <td>0.0</td>\n",
       "      <td>0.0</td>\n",
       "      <td>0.0</td>\n",
       "      <td>0.0</td>\n",
       "      <td>0.0</td>\n",
       "      <td>0.0</td>\n",
       "      <td>0.0</td>\n",
       "      <td>0.0</td>\n",
       "    </tr>\n",
       "    <tr>\n",
       "      <th>1</th>\n",
       "      <td>61.0</td>\n",
       "      <td>9.0</td>\n",
       "      <td>0.0</td>\n",
       "      <td>263.0</td>\n",
       "      <td>21.0</td>\n",
       "      <td>1.0</td>\n",
       "      <td>527.0</td>\n",
       "      <td>51.522636</td>\n",
       "      <td>-0.160287</td>\n",
       "      <td>2.0</td>\n",
       "      <td>...</td>\n",
       "      <td>0.0</td>\n",
       "      <td>0.0</td>\n",
       "      <td>0.0</td>\n",
       "      <td>0.0</td>\n",
       "      <td>0.0</td>\n",
       "      <td>0.0</td>\n",
       "      <td>0.0</td>\n",
       "      <td>0.0</td>\n",
       "      <td>0.0</td>\n",
       "      <td>1.0</td>\n",
       "    </tr>\n",
       "    <tr>\n",
       "      <th>2</th>\n",
       "      <td>974.0</td>\n",
       "      <td>9.0</td>\n",
       "      <td>20.0</td>\n",
       "      <td>3040.0</td>\n",
       "      <td>20.0</td>\n",
       "      <td>12.0</td>\n",
       "      <td>485.0</td>\n",
       "      <td>51.500732</td>\n",
       "      <td>-0.016550</td>\n",
       "      <td>4.0</td>\n",
       "      <td>...</td>\n",
       "      <td>0.0</td>\n",
       "      <td>0.0</td>\n",
       "      <td>0.0</td>\n",
       "      <td>0.0</td>\n",
       "      <td>0.0</td>\n",
       "      <td>0.0</td>\n",
       "      <td>0.0</td>\n",
       "      <td>0.0</td>\n",
       "      <td>0.0</td>\n",
       "      <td>0.0</td>\n",
       "    </tr>\n",
       "    <tr>\n",
       "      <th>3</th>\n",
       "      <td>838.0</td>\n",
       "      <td>8.4</td>\n",
       "      <td>23.0</td>\n",
       "      <td>3274.0</td>\n",
       "      <td>29.0</td>\n",
       "      <td>5.0</td>\n",
       "      <td>415.0</td>\n",
       "      <td>51.495666</td>\n",
       "      <td>-0.145279</td>\n",
       "      <td>6.0</td>\n",
       "      <td>...</td>\n",
       "      <td>0.0</td>\n",
       "      <td>0.0</td>\n",
       "      <td>0.0</td>\n",
       "      <td>0.0</td>\n",
       "      <td>0.0</td>\n",
       "      <td>0.0</td>\n",
       "      <td>0.0</td>\n",
       "      <td>0.0</td>\n",
       "      <td>0.0</td>\n",
       "      <td>1.0</td>\n",
       "    </tr>\n",
       "    <tr>\n",
       "      <th>4</th>\n",
       "      <td>879.0</td>\n",
       "      <td>8.8</td>\n",
       "      <td>48.0</td>\n",
       "      <td>2768.0</td>\n",
       "      <td>51.0</td>\n",
       "      <td>1.0</td>\n",
       "      <td>385.0</td>\n",
       "      <td>51.508354</td>\n",
       "      <td>0.019886</td>\n",
       "      <td>7.0</td>\n",
       "      <td>...</td>\n",
       "      <td>0.0</td>\n",
       "      <td>0.0</td>\n",
       "      <td>0.0</td>\n",
       "      <td>0.0</td>\n",
       "      <td>0.0</td>\n",
       "      <td>0.0</td>\n",
       "      <td>0.0</td>\n",
       "      <td>0.0</td>\n",
       "      <td>0.0</td>\n",
       "      <td>1.0</td>\n",
       "    </tr>\n",
       "  </tbody>\n",
       "</table>\n",
       "<p>5 rows × 2587 columns</p>\n",
       "</div>"
      ],
      "text/plain": [
       "   Additional_Number_of_Scoring  Average_Score  \\\n",
       "0                        2288.0            8.1   \n",
       "1                          61.0            9.0   \n",
       "2                         974.0            9.0   \n",
       "3                         838.0            8.4   \n",
       "4                         879.0            8.8   \n",
       "\n",
       "   Review_Total_Negative_Word_Counts  Total_Number_of_Reviews  \\\n",
       "0                               24.0                   9568.0   \n",
       "1                                0.0                    263.0   \n",
       "2                               20.0                   3040.0   \n",
       "3                               23.0                   3274.0   \n",
       "4                               48.0                   2768.0   \n",
       "\n",
       "   Review_Total_Positive_Word_Counts  \\\n",
       "0                               16.0   \n",
       "1                               21.0   \n",
       "2                               20.0   \n",
       "3                               29.0   \n",
       "4                               51.0   \n",
       "\n",
       "   Total_Number_of_Reviews_Reviewer_Has_Given  days_since_review        lat  \\\n",
       "0                                         1.0              527.0  51.511099   \n",
       "1                                         1.0              527.0  51.522636   \n",
       "2                                        12.0              485.0  51.500732   \n",
       "3                                         5.0              415.0  51.495666   \n",
       "4                                         1.0              385.0  51.508354   \n",
       "\n",
       "        lng  Review_Month  ...  p_working  p_world  p_worth  p_wouldn  p_year  \\\n",
       "0 -0.120867           2.0  ...        0.0      0.0      0.0       0.0     0.0   \n",
       "1 -0.160287           2.0  ...        0.0      0.0      0.0       0.0     0.0   \n",
       "2 -0.016550           4.0  ...        0.0      0.0      0.0       0.0     0.0   \n",
       "3 -0.145279           6.0  ...        0.0      0.0      0.0       0.0     0.0   \n",
       "4  0.019886           7.0  ...        0.0      0.0      0.0       0.0     0.0   \n",
       "\n",
       "   p_years  p_yes  p_young  p_yummy  Reviewer_Score  \n",
       "0      0.0    0.0      0.0      0.0             0.0  \n",
       "1      0.0    0.0      0.0      0.0             1.0  \n",
       "2      0.0    0.0      0.0      0.0             0.0  \n",
       "3      0.0    0.0      0.0      0.0             1.0  \n",
       "4      0.0    0.0      0.0      0.0             1.0  \n",
       "\n",
       "[5 rows x 2587 columns]"
      ]
     },
     "execution_count": 9,
     "metadata": {},
     "output_type": "execute_result"
    }
   ],
   "source": [
    "df_test.head()"
   ]
  },
  {
   "cell_type": "code",
   "execution_count": 10,
   "metadata": {},
   "outputs": [
    {
     "data": {
      "text/plain": [
       "(3413, 2587)"
      ]
     },
     "execution_count": 10,
     "metadata": {},
     "output_type": "execute_result"
    }
   ],
   "source": [
    "#Checking the shapes of the data set\n",
    "df_test.shape"
   ]
  },
  {
   "cell_type": "code",
   "execution_count": 11,
   "metadata": {},
   "outputs": [
    {
     "data": {
      "text/plain": [
       "(13651, 2587)"
      ]
     },
     "execution_count": 11,
     "metadata": {},
     "output_type": "execute_result"
    }
   ],
   "source": [
    "df_train.shape"
   ]
  },
  {
   "cell_type": "code",
   "execution_count": 12,
   "metadata": {},
   "outputs": [
    {
     "data": {
      "text/plain": [
       "25.00183136766537"
      ]
     },
     "execution_count": 12,
     "metadata": {},
     "output_type": "execute_result"
    }
   ],
   "source": [
    "#Checking the size of the split\n",
    "3413/13651*100"
   ]
  },
  {
   "cell_type": "code",
   "execution_count": 13,
   "metadata": {
    "scrolled": true
   },
   "outputs": [
    {
     "data": {
      "text/plain": [
       "1.0    7933\n",
       "0.0    5718\n",
       "Name: Reviewer_Score, dtype: int64"
      ]
     },
     "execution_count": 13,
     "metadata": {},
     "output_type": "execute_result"
    }
   ],
   "source": [
    "# Checking for imbalance in the dependant variable\n",
    "df_train['Reviewer_Score'].value_counts()"
   ]
  },
  {
   "cell_type": "code",
   "execution_count": 14,
   "metadata": {},
   "outputs": [],
   "source": [
    "X_train = df_train.iloc[:,:-1]\n",
    "X_test = df_test.iloc[:,:-1]\n",
    "y_train = df_train.iloc[:,-1]\n",
    "y_test = df_test.iloc[:,-1]"
   ]
  },
  {
   "cell_type": "code",
   "execution_count": 15,
   "metadata": {},
   "outputs": [
    {
     "data": {
      "text/plain": [
       "0    1.0\n",
       "1    1.0\n",
       "2    0.0\n",
       "3    1.0\n",
       "4    0.0\n",
       "5    0.0\n",
       "6    1.0\n",
       "7    1.0\n",
       "8    0.0\n",
       "9    0.0\n",
       "Name: Reviewer_Score, dtype: float64"
      ]
     },
     "execution_count": 15,
     "metadata": {},
     "output_type": "execute_result"
    }
   ],
   "source": [
    "#Checking to see if the splits worked\n",
    "y_train.head(10)"
   ]
  },
  {
   "cell_type": "code",
   "execution_count": 16,
   "metadata": {
    "scrolled": true
   },
   "outputs": [
    {
     "data": {
      "text/html": [
       "<div>\n",
       "<style scoped>\n",
       "    .dataframe tbody tr th:only-of-type {\n",
       "        vertical-align: middle;\n",
       "    }\n",
       "\n",
       "    .dataframe tbody tr th {\n",
       "        vertical-align: top;\n",
       "    }\n",
       "\n",
       "    .dataframe thead th {\n",
       "        text-align: right;\n",
       "    }\n",
       "</style>\n",
       "<table border=\"1\" class=\"dataframe\">\n",
       "  <thead>\n",
       "    <tr style=\"text-align: right;\">\n",
       "      <th></th>\n",
       "      <th>Additional_Number_of_Scoring</th>\n",
       "      <th>Average_Score</th>\n",
       "      <th>Review_Total_Negative_Word_Counts</th>\n",
       "      <th>Total_Number_of_Reviews</th>\n",
       "      <th>Review_Total_Positive_Word_Counts</th>\n",
       "      <th>Total_Number_of_Reviews_Reviewer_Has_Given</th>\n",
       "      <th>days_since_review</th>\n",
       "      <th>lat</th>\n",
       "      <th>lng</th>\n",
       "      <th>Review_Month</th>\n",
       "      <th>...</th>\n",
       "      <th>p_worked</th>\n",
       "      <th>p_working</th>\n",
       "      <th>p_world</th>\n",
       "      <th>p_worth</th>\n",
       "      <th>p_wouldn</th>\n",
       "      <th>p_year</th>\n",
       "      <th>p_years</th>\n",
       "      <th>p_yes</th>\n",
       "      <th>p_young</th>\n",
       "      <th>p_yummy</th>\n",
       "    </tr>\n",
       "  </thead>\n",
       "  <tbody>\n",
       "    <tr>\n",
       "      <th>0</th>\n",
       "      <td>220.0</td>\n",
       "      <td>9.1</td>\n",
       "      <td>20.0</td>\n",
       "      <td>902.0</td>\n",
       "      <td>21.0</td>\n",
       "      <td>1.0</td>\n",
       "      <td>275.0</td>\n",
       "      <td>51.494308</td>\n",
       "      <td>-0.175558</td>\n",
       "      <td>11.0</td>\n",
       "      <td>...</td>\n",
       "      <td>0.0</td>\n",
       "      <td>0.0</td>\n",
       "      <td>0.0</td>\n",
       "      <td>0.0</td>\n",
       "      <td>0.0</td>\n",
       "      <td>0.0</td>\n",
       "      <td>0.000000</td>\n",
       "      <td>0.0</td>\n",
       "      <td>0.0</td>\n",
       "      <td>0.0</td>\n",
       "    </tr>\n",
       "    <tr>\n",
       "      <th>1</th>\n",
       "      <td>1190.0</td>\n",
       "      <td>7.5</td>\n",
       "      <td>5.0</td>\n",
       "      <td>5180.0</td>\n",
       "      <td>23.0</td>\n",
       "      <td>6.0</td>\n",
       "      <td>481.0</td>\n",
       "      <td>51.514879</td>\n",
       "      <td>-0.160650</td>\n",
       "      <td>4.0</td>\n",
       "      <td>...</td>\n",
       "      <td>0.0</td>\n",
       "      <td>0.0</td>\n",
       "      <td>0.0</td>\n",
       "      <td>0.0</td>\n",
       "      <td>0.0</td>\n",
       "      <td>0.0</td>\n",
       "      <td>0.425849</td>\n",
       "      <td>0.0</td>\n",
       "      <td>0.0</td>\n",
       "      <td>0.0</td>\n",
       "    </tr>\n",
       "    <tr>\n",
       "      <th>2</th>\n",
       "      <td>299.0</td>\n",
       "      <td>8.3</td>\n",
       "      <td>81.0</td>\n",
       "      <td>1361.0</td>\n",
       "      <td>27.0</td>\n",
       "      <td>4.0</td>\n",
       "      <td>672.0</td>\n",
       "      <td>51.521009</td>\n",
       "      <td>-0.123097</td>\n",
       "      <td>10.0</td>\n",
       "      <td>...</td>\n",
       "      <td>0.0</td>\n",
       "      <td>0.0</td>\n",
       "      <td>0.0</td>\n",
       "      <td>0.0</td>\n",
       "      <td>0.0</td>\n",
       "      <td>0.0</td>\n",
       "      <td>0.000000</td>\n",
       "      <td>0.0</td>\n",
       "      <td>0.0</td>\n",
       "      <td>0.0</td>\n",
       "    </tr>\n",
       "    <tr>\n",
       "      <th>3</th>\n",
       "      <td>87.0</td>\n",
       "      <td>9.0</td>\n",
       "      <td>17.0</td>\n",
       "      <td>355.0</td>\n",
       "      <td>13.0</td>\n",
       "      <td>7.0</td>\n",
       "      <td>412.0</td>\n",
       "      <td>51.499749</td>\n",
       "      <td>-0.161524</td>\n",
       "      <td>6.0</td>\n",
       "      <td>...</td>\n",
       "      <td>0.0</td>\n",
       "      <td>0.0</td>\n",
       "      <td>0.0</td>\n",
       "      <td>0.0</td>\n",
       "      <td>0.0</td>\n",
       "      <td>0.0</td>\n",
       "      <td>0.000000</td>\n",
       "      <td>0.0</td>\n",
       "      <td>0.0</td>\n",
       "      <td>0.0</td>\n",
       "    </tr>\n",
       "    <tr>\n",
       "      <th>4</th>\n",
       "      <td>317.0</td>\n",
       "      <td>7.6</td>\n",
       "      <td>14.0</td>\n",
       "      <td>1458.0</td>\n",
       "      <td>0.0</td>\n",
       "      <td>1.0</td>\n",
       "      <td>499.0</td>\n",
       "      <td>51.516114</td>\n",
       "      <td>-0.174952</td>\n",
       "      <td>3.0</td>\n",
       "      <td>...</td>\n",
       "      <td>0.0</td>\n",
       "      <td>0.0</td>\n",
       "      <td>0.0</td>\n",
       "      <td>0.0</td>\n",
       "      <td>0.0</td>\n",
       "      <td>0.0</td>\n",
       "      <td>0.000000</td>\n",
       "      <td>0.0</td>\n",
       "      <td>0.0</td>\n",
       "      <td>0.0</td>\n",
       "    </tr>\n",
       "  </tbody>\n",
       "</table>\n",
       "<p>5 rows × 2586 columns</p>\n",
       "</div>"
      ],
      "text/plain": [
       "   Additional_Number_of_Scoring  Average_Score  \\\n",
       "0                         220.0            9.1   \n",
       "1                        1190.0            7.5   \n",
       "2                         299.0            8.3   \n",
       "3                          87.0            9.0   \n",
       "4                         317.0            7.6   \n",
       "\n",
       "   Review_Total_Negative_Word_Counts  Total_Number_of_Reviews  \\\n",
       "0                               20.0                    902.0   \n",
       "1                                5.0                   5180.0   \n",
       "2                               81.0                   1361.0   \n",
       "3                               17.0                    355.0   \n",
       "4                               14.0                   1458.0   \n",
       "\n",
       "   Review_Total_Positive_Word_Counts  \\\n",
       "0                               21.0   \n",
       "1                               23.0   \n",
       "2                               27.0   \n",
       "3                               13.0   \n",
       "4                                0.0   \n",
       "\n",
       "   Total_Number_of_Reviews_Reviewer_Has_Given  days_since_review        lat  \\\n",
       "0                                         1.0              275.0  51.494308   \n",
       "1                                         6.0              481.0  51.514879   \n",
       "2                                         4.0              672.0  51.521009   \n",
       "3                                         7.0              412.0  51.499749   \n",
       "4                                         1.0              499.0  51.516114   \n",
       "\n",
       "        lng  Review_Month  ...  p_worked  p_working  p_world  p_worth  \\\n",
       "0 -0.175558          11.0  ...       0.0        0.0      0.0      0.0   \n",
       "1 -0.160650           4.0  ...       0.0        0.0      0.0      0.0   \n",
       "2 -0.123097          10.0  ...       0.0        0.0      0.0      0.0   \n",
       "3 -0.161524           6.0  ...       0.0        0.0      0.0      0.0   \n",
       "4 -0.174952           3.0  ...       0.0        0.0      0.0      0.0   \n",
       "\n",
       "   p_wouldn  p_year   p_years  p_yes  p_young  p_yummy  \n",
       "0       0.0     0.0  0.000000    0.0      0.0      0.0  \n",
       "1       0.0     0.0  0.425849    0.0      0.0      0.0  \n",
       "2       0.0     0.0  0.000000    0.0      0.0      0.0  \n",
       "3       0.0     0.0  0.000000    0.0      0.0      0.0  \n",
       "4       0.0     0.0  0.000000    0.0      0.0      0.0  \n",
       "\n",
       "[5 rows x 2586 columns]"
      ]
     },
     "execution_count": 16,
     "metadata": {},
     "output_type": "execute_result"
    }
   ],
   "source": [
    "X_train.head()"
   ]
  },
  {
   "cell_type": "code",
   "execution_count": 17,
   "metadata": {},
   "outputs": [
    {
     "name": "stdout",
     "output_type": "stream",
     "text": [
      "(13651, 2586)\n",
      "(3413, 2586)\n",
      "(13651,)\n",
      "(3413,)\n"
     ]
    }
   ],
   "source": [
    "#Checking the shapes before trying to fit any models\n",
    "print(X_train.shape)\n",
    "print(X_test.shape)\n",
    "print(y_train.shape)\n",
    "print(y_test.shape)"
   ]
  },
  {
   "cell_type": "code",
   "execution_count": 18,
   "metadata": {},
   "outputs": [
    {
     "name": "stdout",
     "output_type": "stream",
     "text": [
      "0.7229506995824482\n",
      "0.7213595077644301\n"
     ]
    }
   ],
   "source": [
    "# Fitting an unscaled model and scoring it on the test set\n",
    "\n",
    "# Instantiate \n",
    "logreg1 = LogisticRegression(solver='lbfgs')\n",
    "\n",
    "# Fit\n",
    "logreg1.fit(X_train, y_train)\n",
    "\n",
    "\n",
    "# Score on training data\n",
    "print(logreg1.score(X_train, y_train))\n",
    "\n",
    "# Score on testing data\n",
    "print(logreg1.score(X_test, y_test))"
   ]
  },
  {
   "cell_type": "code",
   "execution_count": 19,
   "metadata": {},
   "outputs": [
    {
     "name": "stdout",
     "output_type": "stream",
     "text": [
      "0.866676433960882\n",
      "0.7497802519777322\n"
     ]
    }
   ],
   "source": [
    "# Trying a Standard Scaler as is general practice\n",
    "\n",
    "# Instantiate\n",
    "ss = StandardScaler()\n",
    "# Fit - ONLY ON THE TRAIN SET\n",
    "ss.fit(X_train, y_train)\n",
    "# Transform\n",
    "X_train_scaled = ss.transform(X_train)\n",
    "X_test_scaled = ss.transform(X_test)\n",
    "\n",
    "# Instantiate \n",
    "logreg2 = LogisticRegression(solver='lbfgs')\n",
    "\n",
    "# Fit\n",
    "logreg2.fit(X_train_scaled, y_train)\n",
    "\n",
    "# Score on training data\n",
    "print(logreg2.score(X_train_scaled, y_train))\n",
    "\n",
    "# Score on testing data\n",
    "print(logreg2.score(X_test_scaled, y_test))"
   ]
  },
  {
   "cell_type": "code",
   "execution_count": 21,
   "metadata": {},
   "outputs": [],
   "source": [
    "# Making predictions\n",
    "y_pred1 = logreg2.predict(X_test)"
   ]
  },
  {
   "cell_type": "code",
   "execution_count": 22,
   "metadata": {},
   "outputs": [
    {
     "data": {
      "text/plain": [
       "<sklearn.metrics._plot.confusion_matrix.ConfusionMatrixDisplay at 0x24cdba86220>"
      ]
     },
     "execution_count": 22,
     "metadata": {},
     "output_type": "execute_result"
    },
    {
     "data": {
      "image/png": "[encoded data removed]",
      "text/plain": [
       "<Figure size 432x288 with 2 Axes>"
      ]
     },
     "metadata": {
      "needs_background": "light"
     },
     "output_type": "display_data"
    }
   ],
   "source": [
    "# Plotting Confusion Matrix\n",
    "from sklearn.metrics import confusion_matrix\n",
    "from sklearn.metrics import ConfusionMatrixDisplay\n",
    "conf_matrix_test1 = confusion_matrix(y_test, y_pred1)\n",
    "ConfusionMatrixDisplay(conf_matrix_test1, display_labels=[1,0]).plot()"
   ]
  },
  {
   "cell_type": "code",
   "execution_count": 23,
   "metadata": {},
   "outputs": [
    {
     "name": "stdout",
     "output_type": "stream",
     "text": [
      "              precision    recall  f1-score   support\n",
      "\n",
      "         0.0       0.51      0.29      0.37      1429\n",
      "         1.0       0.61      0.80      0.69      1984\n",
      "\n",
      "    accuracy                           0.59      3413\n",
      "   macro avg       0.56      0.54      0.53      3413\n",
      "weighted avg       0.57      0.59      0.56      3413\n",
      "\n"
     ]
    }
   ],
   "source": [
    "from sklearn.metrics import classification_report\n",
    "\n",
    "print(classification_report(y_test, y_pred1))"
   ]
  },
  {
   "cell_type": "markdown",
   "metadata": {},
   "source": [
    "With the Standard Scaler, the logistic regression model performs a lot better but we can still see some overifitting to the training data. This model seems to capture the positive class really well (High Recall) however on the flipside, it is really bad at capturing the negative class."
   ]
  },
  {
   "cell_type": "markdown",
   "metadata": {},
   "source": [
    "### Lets find the 20 words most predictive of a good review (from the positive review column) and 20 words most predictive with a bad review (from the negative review column)."
   ]
  },
  {
   "cell_type": "code",
   "execution_count": 24,
   "metadata": {
    "scrolled": false
   },
   "outputs": [
    {
     "data": {
      "text/plain": [
       "array([[-0.01133512,  0.41712753, -0.08882085, ...,  0.03822854,\n",
       "         0.07474149,  0.0529678 ]])"
      ]
     },
     "execution_count": 24,
     "metadata": {},
     "output_type": "execute_result"
    }
   ],
   "source": [
    "# Pulling out the Coefficients\n",
    "coefficients = logreg2.coef_\n",
    "coefficients"
   ]
  },
  {
   "cell_type": "code",
   "execution_count": 25,
   "metadata": {},
   "outputs": [],
   "source": [
    "# Sorting the Coefficients\n",
    "indices = coefficients.argsort()[0]"
   ]
  },
  {
   "cell_type": "code",
   "execution_count": 26,
   "metadata": {
    "scrolled": false
   },
   "outputs": [
    {
     "data": {
      "text/plain": [
       "array(['n_black', 'n_premier', 'n_joke', 'n_lamp', 'n_room', 'n_staff',\n",
       "       'n_peeling', 'n_dirty', 'n_rude', 'n_won',\n",
       "       'Hotel_Name_Thistle Hyde Park', 'n_negative', 'p_wi', 'p_board',\n",
       "       'n_star', 'n_impression', 'n_smelly', 'n_bed', 'n_deluxe',\n",
       "       'n_dated'], dtype=object)"
      ]
     },
     "execution_count": 26,
     "metadata": {},
     "output_type": "execute_result"
    }
   ],
   "source": [
    "# Pulling out the top 20 column names most predictive of a negative review\n",
    "\n",
    "np.array(X_train.columns.values)[indices[:20]]"
   ]
  },
  {
   "cell_type": "code",
   "execution_count": 27,
   "metadata": {},
   "outputs": [
    {
     "data": {
      "text/plain": [
       "array(['p_outstanding', 'p_attention', 'p_beautiful', 'n_feet', 'p_smile',\n",
       "       'p_perfect', 'p_upgraded', 'p_fantastic', 'p_ironing',\n",
       "       'Hotel_Name_Corinthia Hotel London', 'p_future', 'p_half',\n",
       "       'n_loved', 'p_professional', 'p_movies', 'p_excellent',\n",
       "       'p_amazing', 'p_kindly', 'p_truly', 'Average_Score'], dtype=object)"
      ]
     },
     "execution_count": 27,
     "metadata": {},
     "output_type": "execute_result"
    }
   ],
   "source": [
    "# Pulling out the top 20 column names most predictive of a positive review\n",
    "np.array(X_train.columns.values)[indices[-20:]]"
   ]
  },
  {
   "cell_type": "markdown",
   "metadata": {},
   "source": [
    "This worked well however, there are some columns that are indicative of a positive review that show up in the negative column and 'Average Score' seems to be predictive of the positive reviews as well. Lets ONLY pull out the column names that are from the positive reviews(start with p_) and the same for the negative reviews(starts with n_)."
   ]
  },
  {
   "cell_type": "code",
   "execution_count": 28,
   "metadata": {},
   "outputs": [],
   "source": [
    "#Creating a DataFrame with the column names and the coefficients\n",
    "\n",
    "model_coeffs = pd.DataFrame(coefficients, columns = X_train.columns).transpose().reset_index()"
   ]
  },
  {
   "cell_type": "code",
   "execution_count": 29,
   "metadata": {
    "scrolled": true
   },
   "outputs": [
    {
     "data": {
      "text/html": [
       "<div>\n",
       "<style scoped>\n",
       "    .dataframe tbody tr th:only-of-type {\n",
       "        vertical-align: middle;\n",
       "    }\n",
       "\n",
       "    .dataframe tbody tr th {\n",
       "        vertical-align: top;\n",
       "    }\n",
       "\n",
       "    .dataframe thead th {\n",
       "        text-align: right;\n",
       "    }\n",
       "</style>\n",
       "<table border=\"1\" class=\"dataframe\">\n",
       "  <thead>\n",
       "    <tr style=\"text-align: right;\">\n",
       "      <th></th>\n",
       "      <th>index</th>\n",
       "      <th>0</th>\n",
       "    </tr>\n",
       "  </thead>\n",
       "  <tbody>\n",
       "    <tr>\n",
       "      <th>0</th>\n",
       "      <td>Additional_Number_of_Scoring</td>\n",
       "      <td>-0.011335</td>\n",
       "    </tr>\n",
       "    <tr>\n",
       "      <th>1</th>\n",
       "      <td>Average_Score</td>\n",
       "      <td>0.417128</td>\n",
       "    </tr>\n",
       "    <tr>\n",
       "      <th>2</th>\n",
       "      <td>Review_Total_Negative_Word_Counts</td>\n",
       "      <td>-0.088821</td>\n",
       "    </tr>\n",
       "    <tr>\n",
       "      <th>3</th>\n",
       "      <td>Total_Number_of_Reviews</td>\n",
       "      <td>-0.016027</td>\n",
       "    </tr>\n",
       "    <tr>\n",
       "      <th>4</th>\n",
       "      <td>Review_Total_Positive_Word_Counts</td>\n",
       "      <td>0.102169</td>\n",
       "    </tr>\n",
       "    <tr>\n",
       "      <th>...</th>\n",
       "      <td>...</td>\n",
       "      <td>...</td>\n",
       "    </tr>\n",
       "    <tr>\n",
       "      <th>2581</th>\n",
       "      <td>p_year</td>\n",
       "      <td>0.094706</td>\n",
       "    </tr>\n",
       "    <tr>\n",
       "      <th>2582</th>\n",
       "      <td>p_years</td>\n",
       "      <td>0.084629</td>\n",
       "    </tr>\n",
       "    <tr>\n",
       "      <th>2583</th>\n",
       "      <td>p_yes</td>\n",
       "      <td>0.038229</td>\n",
       "    </tr>\n",
       "    <tr>\n",
       "      <th>2584</th>\n",
       "      <td>p_young</td>\n",
       "      <td>0.074741</td>\n",
       "    </tr>\n",
       "    <tr>\n",
       "      <th>2585</th>\n",
       "      <td>p_yummy</td>\n",
       "      <td>0.052968</td>\n",
       "    </tr>\n",
       "  </tbody>\n",
       "</table>\n",
       "<p>2586 rows × 2 columns</p>\n",
       "</div>"
      ],
      "text/plain": [
       "                                  index         0\n",
       "0          Additional_Number_of_Scoring -0.011335\n",
       "1                         Average_Score  0.417128\n",
       "2     Review_Total_Negative_Word_Counts -0.088821\n",
       "3               Total_Number_of_Reviews -0.016027\n",
       "4     Review_Total_Positive_Word_Counts  0.102169\n",
       "...                                 ...       ...\n",
       "2581                             p_year  0.094706\n",
       "2582                            p_years  0.084629\n",
       "2583                              p_yes  0.038229\n",
       "2584                            p_young  0.074741\n",
       "2585                            p_yummy  0.052968\n",
       "\n",
       "[2586 rows x 2 columns]"
      ]
     },
     "execution_count": 29,
     "metadata": {},
     "output_type": "execute_result"
    }
   ],
   "source": [
    "model_coeffs"
   ]
  },
  {
   "cell_type": "code",
   "execution_count": 30,
   "metadata": {},
   "outputs": [
    {
     "data": {
      "text/html": [
       "<div>\n",
       "<style scoped>\n",
       "    .dataframe tbody tr th:only-of-type {\n",
       "        vertical-align: middle;\n",
       "    }\n",
       "\n",
       "    .dataframe tbody tr th {\n",
       "        vertical-align: top;\n",
       "    }\n",
       "\n",
       "    .dataframe thead th {\n",
       "        text-align: right;\n",
       "    }\n",
       "</style>\n",
       "<table border=\"1\" class=\"dataframe\">\n",
       "  <thead>\n",
       "    <tr style=\"text-align: right;\">\n",
       "      <th></th>\n",
       "      <th>Column_Names</th>\n",
       "      <th>Coefficients</th>\n",
       "    </tr>\n",
       "  </thead>\n",
       "  <tbody>\n",
       "    <tr>\n",
       "      <th>0</th>\n",
       "      <td>Additional_Number_of_Scoring</td>\n",
       "      <td>-0.011335</td>\n",
       "    </tr>\n",
       "    <tr>\n",
       "      <th>1</th>\n",
       "      <td>Average_Score</td>\n",
       "      <td>0.417128</td>\n",
       "    </tr>\n",
       "    <tr>\n",
       "      <th>2</th>\n",
       "      <td>Review_Total_Negative_Word_Counts</td>\n",
       "      <td>-0.088821</td>\n",
       "    </tr>\n",
       "    <tr>\n",
       "      <th>3</th>\n",
       "      <td>Total_Number_of_Reviews</td>\n",
       "      <td>-0.016027</td>\n",
       "    </tr>\n",
       "    <tr>\n",
       "      <th>4</th>\n",
       "      <td>Review_Total_Positive_Word_Counts</td>\n",
       "      <td>0.102169</td>\n",
       "    </tr>\n",
       "    <tr>\n",
       "      <th>...</th>\n",
       "      <td>...</td>\n",
       "      <td>...</td>\n",
       "    </tr>\n",
       "    <tr>\n",
       "      <th>2581</th>\n",
       "      <td>p_year</td>\n",
       "      <td>0.094706</td>\n",
       "    </tr>\n",
       "    <tr>\n",
       "      <th>2582</th>\n",
       "      <td>p_years</td>\n",
       "      <td>0.084629</td>\n",
       "    </tr>\n",
       "    <tr>\n",
       "      <th>2583</th>\n",
       "      <td>p_yes</td>\n",
       "      <td>0.038229</td>\n",
       "    </tr>\n",
       "    <tr>\n",
       "      <th>2584</th>\n",
       "      <td>p_young</td>\n",
       "      <td>0.074741</td>\n",
       "    </tr>\n",
       "    <tr>\n",
       "      <th>2585</th>\n",
       "      <td>p_yummy</td>\n",
       "      <td>0.052968</td>\n",
       "    </tr>\n",
       "  </tbody>\n",
       "</table>\n",
       "<p>2586 rows × 2 columns</p>\n",
       "</div>"
      ],
      "text/plain": [
       "                           Column_Names  Coefficients\n",
       "0          Additional_Number_of_Scoring     -0.011335\n",
       "1                         Average_Score      0.417128\n",
       "2     Review_Total_Negative_Word_Counts     -0.088821\n",
       "3               Total_Number_of_Reviews     -0.016027\n",
       "4     Review_Total_Positive_Word_Counts      0.102169\n",
       "...                                 ...           ...\n",
       "2581                             p_year      0.094706\n",
       "2582                            p_years      0.084629\n",
       "2583                              p_yes      0.038229\n",
       "2584                            p_young      0.074741\n",
       "2585                            p_yummy      0.052968\n",
       "\n",
       "[2586 rows x 2 columns]"
      ]
     },
     "execution_count": 30,
     "metadata": {},
     "output_type": "execute_result"
    }
   ],
   "source": [
    "# Rename the index and 0 column\n",
    "model_coeffs.rename(columns = {'index':'Column_Names', 0 : 'Coefficients'})"
   ]
  },
  {
   "cell_type": "code",
   "execution_count": 31,
   "metadata": {},
   "outputs": [],
   "source": [
    "# Pulling out the negative words with the highest coefficients from the negative reviews (n_)\n",
    "neg_words = model_coeffs[model_coeffs.iloc[:,0].str.contains('n_')].sort_values(by=0, ascending = False)"
   ]
  },
  {
   "cell_type": "code",
   "execution_count": 32,
   "metadata": {},
   "outputs": [
    {
     "data": {
      "text/html": [
       "<div>\n",
       "<style scoped>\n",
       "    .dataframe tbody tr th:only-of-type {\n",
       "        vertical-align: middle;\n",
       "    }\n",
       "\n",
       "    .dataframe tbody tr th {\n",
       "        vertical-align: top;\n",
       "    }\n",
       "\n",
       "    .dataframe thead th {\n",
       "        text-align: right;\n",
       "    }\n",
       "</style>\n",
       "<table border=\"1\" class=\"dataframe\">\n",
       "  <thead>\n",
       "    <tr style=\"text-align: right;\">\n",
       "      <th></th>\n",
       "      <th>index</th>\n",
       "      <th>0</th>\n",
       "    </tr>\n",
       "  </thead>\n",
       "  <tbody>\n",
       "    <tr>\n",
       "      <th>1078</th>\n",
       "      <td>n_loved</td>\n",
       "      <td>0.266326</td>\n",
       "    </tr>\n",
       "    <tr>\n",
       "      <th>856</th>\n",
       "      <td>n_feet</td>\n",
       "      <td>0.225242</td>\n",
       "    </tr>\n",
       "    <tr>\n",
       "      <th>1228</th>\n",
       "      <td>n_perfect</td>\n",
       "      <td>0.207824</td>\n",
       "    </tr>\n",
       "    <tr>\n",
       "      <th>479</th>\n",
       "      <td>n_apologetic</td>\n",
       "      <td>0.201833</td>\n",
       "    </tr>\n",
       "    <tr>\n",
       "      <th>607</th>\n",
       "      <td>n_changing</td>\n",
       "      <td>0.139724</td>\n",
       "    </tr>\n",
       "    <tr>\n",
       "      <th>850</th>\n",
       "      <td>n_fault</td>\n",
       "      <td>0.138449</td>\n",
       "    </tr>\n",
       "    <tr>\n",
       "      <th>1037</th>\n",
       "      <td>n_leave</td>\n",
       "      <td>0.135383</td>\n",
       "    </tr>\n",
       "    <tr>\n",
       "      <th>473</th>\n",
       "      <td>n_anniversary</td>\n",
       "      <td>0.124838</td>\n",
       "    </tr>\n",
       "    <tr>\n",
       "      <th>834</th>\n",
       "      <td>n_eye</td>\n",
       "      <td>0.124420</td>\n",
       "    </tr>\n",
       "    <tr>\n",
       "      <th>418</th>\n",
       "      <td>n_16</td>\n",
       "      <td>0.121306</td>\n",
       "    </tr>\n",
       "    <tr>\n",
       "      <th>558</th>\n",
       "      <td>n_bother</td>\n",
       "      <td>0.120916</td>\n",
       "    </tr>\n",
       "    <tr>\n",
       "      <th>1235</th>\n",
       "      <td>n_picky</td>\n",
       "      <td>0.120672</td>\n",
       "    </tr>\n",
       "    <tr>\n",
       "      <th>1466</th>\n",
       "      <td>n_sorted</td>\n",
       "      <td>0.117286</td>\n",
       "    </tr>\n",
       "    <tr>\n",
       "      <th>573</th>\n",
       "      <td>n_buffet</td>\n",
       "      <td>0.113061</td>\n",
       "    </tr>\n",
       "    <tr>\n",
       "      <th>1570</th>\n",
       "      <td>n_toothpaste</td>\n",
       "      <td>0.112311</td>\n",
       "    </tr>\n",
       "    <tr>\n",
       "      <th>1175</th>\n",
       "      <td>n_noticed</td>\n",
       "      <td>0.111689</td>\n",
       "    </tr>\n",
       "    <tr>\n",
       "      <th>816</th>\n",
       "      <td>n_excellent</td>\n",
       "      <td>0.110385</td>\n",
       "    </tr>\n",
       "    <tr>\n",
       "      <th>1434</th>\n",
       "      <td>n_sky</td>\n",
       "      <td>0.108360</td>\n",
       "    </tr>\n",
       "    <tr>\n",
       "      <th>917</th>\n",
       "      <td>n_group</td>\n",
       "      <td>0.108212</td>\n",
       "    </tr>\n",
       "    <tr>\n",
       "      <th>860</th>\n",
       "      <td>n_fi</td>\n",
       "      <td>0.103861</td>\n",
       "    </tr>\n",
       "  </tbody>\n",
       "</table>\n",
       "</div>"
      ],
      "text/plain": [
       "              index         0\n",
       "1078        n_loved  0.266326\n",
       "856          n_feet  0.225242\n",
       "1228      n_perfect  0.207824\n",
       "479    n_apologetic  0.201833\n",
       "607      n_changing  0.139724\n",
       "850         n_fault  0.138449\n",
       "1037        n_leave  0.135383\n",
       "473   n_anniversary  0.124838\n",
       "834           n_eye  0.124420\n",
       "418            n_16  0.121306\n",
       "558        n_bother  0.120916\n",
       "1235        n_picky  0.120672\n",
       "1466       n_sorted  0.117286\n",
       "573        n_buffet  0.113061\n",
       "1570   n_toothpaste  0.112311\n",
       "1175      n_noticed  0.111689\n",
       "816     n_excellent  0.110385\n",
       "1434          n_sky  0.108360\n",
       "917         n_group  0.108212\n",
       "860            n_fi  0.103861"
      ]
     },
     "execution_count": 32,
     "metadata": {},
     "output_type": "execute_result"
    }
   ],
   "source": [
    "neg_words.head(20)"
   ]
  },
  {
   "cell_type": "code",
   "execution_count": 33,
   "metadata": {},
   "outputs": [],
   "source": [
    "# Pulling out the positive words with the highest coefficients from the positive reviews (p_)\n",
    "pos_words = model_coeffs[model_coeffs.iloc[:,0].str.contains('p_')].sort_values(by=0, ascending = False)"
   ]
  },
  {
   "cell_type": "code",
   "execution_count": 34,
   "metadata": {},
   "outputs": [
    {
     "data": {
      "text/html": [
       "<div>\n",
       "<style scoped>\n",
       "    .dataframe tbody tr th:only-of-type {\n",
       "        vertical-align: middle;\n",
       "    }\n",
       "\n",
       "    .dataframe tbody tr th {\n",
       "        vertical-align: top;\n",
       "    }\n",
       "\n",
       "    .dataframe thead th {\n",
       "        text-align: right;\n",
       "    }\n",
       "</style>\n",
       "<table border=\"1\" class=\"dataframe\">\n",
       "  <thead>\n",
       "    <tr style=\"text-align: right;\">\n",
       "      <th></th>\n",
       "      <th>index</th>\n",
       "      <th>0</th>\n",
       "    </tr>\n",
       "  </thead>\n",
       "  <tbody>\n",
       "    <tr>\n",
       "      <th>2511</th>\n",
       "      <td>p_truly</td>\n",
       "      <td>0.362584</td>\n",
       "    </tr>\n",
       "    <tr>\n",
       "      <th>2114</th>\n",
       "      <td>p_kindly</td>\n",
       "      <td>0.329085</td>\n",
       "    </tr>\n",
       "    <tr>\n",
       "      <th>1719</th>\n",
       "      <td>p_amazing</td>\n",
       "      <td>0.310931</td>\n",
       "    </tr>\n",
       "    <tr>\n",
       "      <th>1955</th>\n",
       "      <td>p_excellent</td>\n",
       "      <td>0.292555</td>\n",
       "    </tr>\n",
       "    <tr>\n",
       "      <th>2213</th>\n",
       "      <td>p_movies</td>\n",
       "      <td>0.282158</td>\n",
       "    </tr>\n",
       "    <tr>\n",
       "      <th>2308</th>\n",
       "      <td>p_professional</td>\n",
       "      <td>0.276714</td>\n",
       "    </tr>\n",
       "    <tr>\n",
       "      <th>2046</th>\n",
       "      <td>p_half</td>\n",
       "      <td>0.266018</td>\n",
       "    </tr>\n",
       "    <tr>\n",
       "      <th>2016</th>\n",
       "      <td>p_future</td>\n",
       "      <td>0.264394</td>\n",
       "    </tr>\n",
       "    <tr>\n",
       "      <th>2099</th>\n",
       "      <td>p_ironing</td>\n",
       "      <td>0.238970</td>\n",
       "    </tr>\n",
       "    <tr>\n",
       "      <th>1978</th>\n",
       "      <td>p_fantastic</td>\n",
       "      <td>0.238240</td>\n",
       "    </tr>\n",
       "    <tr>\n",
       "      <th>2522</th>\n",
       "      <td>p_upgraded</td>\n",
       "      <td>0.234762</td>\n",
       "    </tr>\n",
       "    <tr>\n",
       "      <th>2271</th>\n",
       "      <td>p_perfect</td>\n",
       "      <td>0.230162</td>\n",
       "    </tr>\n",
       "    <tr>\n",
       "      <th>2410</th>\n",
       "      <td>p_smile</td>\n",
       "      <td>0.229315</td>\n",
       "    </tr>\n",
       "    <tr>\n",
       "      <th>1761</th>\n",
       "      <td>p_beautiful</td>\n",
       "      <td>0.222012</td>\n",
       "    </tr>\n",
       "    <tr>\n",
       "      <th>1741</th>\n",
       "      <td>p_attention</td>\n",
       "      <td>0.221863</td>\n",
       "    </tr>\n",
       "    <tr>\n",
       "      <th>2252</th>\n",
       "      <td>p_outstanding</td>\n",
       "      <td>0.210144</td>\n",
       "    </tr>\n",
       "    <tr>\n",
       "      <th>1990</th>\n",
       "      <td>p_fi</td>\n",
       "      <td>0.209550</td>\n",
       "    </tr>\n",
       "    <tr>\n",
       "      <th>1693</th>\n",
       "      <td>p_02</td>\n",
       "      <td>0.208196</td>\n",
       "    </tr>\n",
       "    <tr>\n",
       "      <th>2416</th>\n",
       "      <td>p_soon</td>\n",
       "      <td>0.205566</td>\n",
       "    </tr>\n",
       "    <tr>\n",
       "      <th>2230</th>\n",
       "      <td>p_nicer</td>\n",
       "      <td>0.199224</td>\n",
       "    </tr>\n",
       "  </tbody>\n",
       "</table>\n",
       "</div>"
      ],
      "text/plain": [
       "               index         0\n",
       "2511         p_truly  0.362584\n",
       "2114        p_kindly  0.329085\n",
       "1719       p_amazing  0.310931\n",
       "1955     p_excellent  0.292555\n",
       "2213        p_movies  0.282158\n",
       "2308  p_professional  0.276714\n",
       "2046          p_half  0.266018\n",
       "2016        p_future  0.264394\n",
       "2099       p_ironing  0.238970\n",
       "1978     p_fantastic  0.238240\n",
       "2522      p_upgraded  0.234762\n",
       "2271       p_perfect  0.230162\n",
       "2410         p_smile  0.229315\n",
       "1761     p_beautiful  0.222012\n",
       "1741     p_attention  0.221863\n",
       "2252   p_outstanding  0.210144\n",
       "1990            p_fi  0.209550\n",
       "1693            p_02  0.208196\n",
       "2416          p_soon  0.205566\n",
       "2230         p_nicer  0.199224"
      ]
     },
     "execution_count": 34,
     "metadata": {},
     "output_type": "execute_result"
    }
   ],
   "source": [
    "pos_words.head(20)"
   ]
  },
  {
   "cell_type": "markdown",
   "metadata": {},
   "source": [
    "### D. Reduce the dimensionality of the dataset using PCA, what is the relationship between the number of dimensions and run-time for a logistic regression?"
   ]
  },
  {
   "cell_type": "code",
   "execution_count": 35,
   "metadata": {},
   "outputs": [
    {
     "data": {
      "text/plain": [
       "(13651, 2586)"
      ]
     },
     "execution_count": 35,
     "metadata": {},
     "output_type": "execute_result"
    }
   ],
   "source": [
    "X_train_scaled.shape"
   ]
  },
  {
   "cell_type": "code",
   "execution_count": 36,
   "metadata": {},
   "outputs": [],
   "source": [
    "# First lets look at the explained variance for all principle components\n",
    "my_pca1 = PCA(n_components= 2586)\n",
    "my_pca1.fit(X_train_scaled)\n",
    "\n",
    "# transform data \n",
    "X_train_scaledPCA = my_pca1.transform(X_train_scaled)\n",
    "X_test_scaledPCA = my_pca1.transform(X_test_scaled)"
   ]
  },
  {
   "cell_type": "code",
   "execution_count": 37,
   "metadata": {},
   "outputs": [
    {
     "name": "stdout",
     "output_type": "stream",
     "text": [
      "[0.00249712 0.00431794 0.0059309  ... 1.         1.         1.        ]\n"
     ]
    }
   ],
   "source": [
    "# Getting the cumulative sum of the explained variance ratio\n",
    "expl_var = my_pca1.explained_variance_ratio_.cumsum()\n",
    "print(expl_var)"
   ]
  },
  {
   "cell_type": "code",
   "execution_count": 38,
   "metadata": {},
   "outputs": [
    {
     "data": {
      "text/plain": [
       "(2586,)"
      ]
     },
     "execution_count": 38,
     "metadata": {},
     "output_type": "execute_result"
    }
   ],
   "source": [
    "expl_var.shape"
   ]
  },
  {
   "cell_type": "code",
   "execution_count": 39,
   "metadata": {
    "scrolled": false
   },
   "outputs": [
    {
     "data": {
      "image/png": "[encoded data removed]",
      "text/plain": [
       "<Figure size 720x720 with 1 Axes>"
      ]
     },
     "metadata": {
      "needs_background": "light"
     },
     "output_type": "display_data"
    }
   ],
   "source": [
    "# Plotting the proportion of the variance explained by number of components\n",
    "plt.figure(figsize=(10,10))\n",
    "plt.plot(range(1,2587),expl_var,marker='.')\n",
    "plt.xlabel('Number of PCs')\n",
    "plt.ylabel('Proportion of Variance Explained')\n",
    "plt.xticks(range(1,2586,200))\n",
    "plt.show()"
   ]
  },
  {
   "cell_type": "markdown",
   "metadata": {},
   "source": [
    "Unfortunately, there is no obvious elbow where the proportion of the variance explained flattens. This means that most of the features are contributing to the variance in the data. Let's see how many features we lose as we reduce the proportion of the variance explained."
   ]
  },
  {
   "cell_type": "code",
   "execution_count": 40,
   "metadata": {},
   "outputs": [
    {
     "data": {
      "text/plain": [
       "(array([   0,    1,    2, ..., 2576, 2577, 2578], dtype=int64),)"
      ]
     },
     "execution_count": 40,
     "metadata": {},
     "output_type": "execute_result"
    }
   ],
   "source": [
    "reduced_dim_100 = np.where(expl_var < 1)\n",
    "reduced_dim_100"
   ]
  },
  {
   "cell_type": "code",
   "execution_count": 41,
   "metadata": {},
   "outputs": [
    {
     "data": {
      "text/plain": [
       "(array([   0,    1,    2, ..., 2215, 2216, 2217], dtype=int64),)"
      ]
     },
     "execution_count": 41,
     "metadata": {},
     "output_type": "execute_result"
    }
   ],
   "source": [
    "reduced_dim_95 = np.where(expl_var < 0.95)\n",
    "reduced_dim_95"
   ]
  },
  {
   "cell_type": "code",
   "execution_count": 42,
   "metadata": {},
   "outputs": [
    {
     "data": {
      "text/plain": [
       "(array([   0,    1,    2, ..., 1967, 1968, 1969], dtype=int64),)"
      ]
     },
     "execution_count": 42,
     "metadata": {},
     "output_type": "execute_result"
    }
   ],
   "source": [
    "reduced_dim_90 = np.where(expl_var < 0.9)\n",
    "reduced_dim_90"
   ]
  },
  {
   "cell_type": "markdown",
   "metadata": {},
   "source": [
    "From the above cells we can see that all of the variance is captured in 2,578 of the 2586 principle components. 95% of the variance is captured by 2,217 PC's and 90% of the variance is explained by 1,969 PC's."
   ]
  },
  {
   "cell_type": "markdown",
   "metadata": {},
   "source": [
    "Note: Since there are almost 2,600 PC's we will pass a float value into the n_components parameter which will automatically capture the amount of PC's needed to capture the % of the variance. Ex. n_components = .5 is equivalent to capturing the number of components required to capture 50% of the Variance."
   ]
  },
  {
   "cell_type": "code",
   "execution_count": 43,
   "metadata": {},
   "outputs": [],
   "source": [
    "import timeit"
   ]
  },
  {
   "cell_type": "code",
   "execution_count": 44,
   "metadata": {},
   "outputs": [],
   "source": [
    "# Running a loop and getting the run time of the logistic regression\n",
    "test_scores_logreg = []\n",
    "train_scores_logreg = []\n",
    "time_logreg = []\n",
    "\n",
    "n_comp_pct = np.array([.25, .5, .75, .9, .95, .99])\n",
    "\n",
    "\n",
    "for n in n_comp_pct:\n",
    "    my_pca = PCA(n_components=n)\n",
    "    my_pca.fit(X_train_scaled)\n",
    "    \n",
    "    #Transform the data\n",
    "    X_train_scaledPCA = my_pca.transform(X_train_scaled)\n",
    "    X_test_scaledPCA = my_pca.transform(X_test_scaled)\n",
    "    \n",
    "    start_time = timeit.default_timer()\n",
    "    #Fit\n",
    "    my_logreg = LogisticRegression(n_jobs=-1)\n",
    "    my_logreg.fit(X_train_scaledPCA, y_train)\n",
    "    \n",
    "    end_time = timeit.default_timer()\n",
    "    \n",
    "\n",
    "    # append score for training set\n",
    "    train_scores_logreg.append(my_logreg.score(X_train_scaledPCA, y_train))\n",
    "    # append score for test set\n",
    "    test_scores_logreg.append(my_logreg.score(X_test_scaledPCA, y_test))\n",
    "    # append time taken\n",
    "    time_logreg.append(end_time - start_time)\n",
    "    "
   ]
  },
  {
   "cell_type": "code",
   "execution_count": 45,
   "metadata": {},
   "outputs": [
    {
     "data": {
      "image/png": "[encoded data removed]",
      "text/plain": [
       "<Figure size 720x720 with 1 Axes>"
      ]
     },
     "metadata": {
      "needs_background": "light"
     },
     "output_type": "display_data"
    }
   ],
   "source": [
    "plt.figure(figsize=(10,10))\n",
    "plt.plot(n_comp_pct,time_logreg,marker='.')\n",
    "plt.xlabel('Number of components by % of Variance Explained')\n",
    "plt.ylabel('Time taken (Seconds)')\n",
    "plt.title('Time to Fit')\n",
    "plt.show()"
   ]
  },
  {
   "cell_type": "code",
   "execution_count": 46,
   "metadata": {
    "scrolled": true
   },
   "outputs": [
    {
     "data": {
      "text/html": [
       "<div>\n",
       "<style scoped>\n",
       "    .dataframe tbody tr th:only-of-type {\n",
       "        vertical-align: middle;\n",
       "    }\n",
       "\n",
       "    .dataframe tbody tr th {\n",
       "        vertical-align: top;\n",
       "    }\n",
       "\n",
       "    .dataframe thead th {\n",
       "        text-align: right;\n",
       "    }\n",
       "</style>\n",
       "<table border=\"1\" class=\"dataframe\">\n",
       "  <thead>\n",
       "    <tr style=\"text-align: right;\">\n",
       "      <th></th>\n",
       "      <th>n_comp_pct</th>\n",
       "      <th>Train Scores</th>\n",
       "      <th>Test Scores</th>\n",
       "    </tr>\n",
       "  </thead>\n",
       "  <tbody>\n",
       "    <tr>\n",
       "      <th>0</th>\n",
       "      <td>0.25</td>\n",
       "      <td>0.800088</td>\n",
       "      <td>0.783182</td>\n",
       "    </tr>\n",
       "    <tr>\n",
       "      <th>1</th>\n",
       "      <td>0.50</td>\n",
       "      <td>0.815032</td>\n",
       "      <td>0.778787</td>\n",
       "    </tr>\n",
       "    <tr>\n",
       "      <th>2</th>\n",
       "      <td>0.75</td>\n",
       "      <td>0.836202</td>\n",
       "      <td>0.774099</td>\n",
       "    </tr>\n",
       "    <tr>\n",
       "      <th>3</th>\n",
       "      <td>0.90</td>\n",
       "      <td>0.850707</td>\n",
       "      <td>0.762086</td>\n",
       "    </tr>\n",
       "    <tr>\n",
       "      <th>4</th>\n",
       "      <td>0.95</td>\n",
       "      <td>0.860743</td>\n",
       "      <td>0.758570</td>\n",
       "    </tr>\n",
       "    <tr>\n",
       "      <th>5</th>\n",
       "      <td>0.99</td>\n",
       "      <td>0.863893</td>\n",
       "      <td>0.753296</td>\n",
       "    </tr>\n",
       "  </tbody>\n",
       "</table>\n",
       "</div>"
      ],
      "text/plain": [
       "   n_comp_pct  Train Scores  Test Scores\n",
       "0        0.25      0.800088     0.783182\n",
       "1        0.50      0.815032     0.778787\n",
       "2        0.75      0.836202     0.774099\n",
       "3        0.90      0.850707     0.762086\n",
       "4        0.95      0.860743     0.758570\n",
       "5        0.99      0.863893     0.753296"
      ]
     },
     "execution_count": 46,
     "metadata": {},
     "output_type": "execute_result"
    }
   ],
   "source": [
    "DimensionReduction = pd.DataFrame({'n_comp_pct' : n_comp_pct,\n",
    "                                'Train Scores' : train_scores_logreg,\n",
    "                                'Test Scores' : test_scores_logreg }, \n",
    "                                )\n",
    "DimensionReduction"
   ]
  },
  {
   "cell_type": "code",
   "execution_count": 47,
   "metadata": {},
   "outputs": [
    {
     "data": {
      "image/png": "[encoded data removed]",
      "text/plain": [
       "<Figure size 720x720 with 1 Axes>"
      ]
     },
     "metadata": {
      "needs_background": "light"
     },
     "output_type": "display_data"
    }
   ],
   "source": [
    "plt.figure(figsize=(10,10))\n",
    "plt.plot(n_comp_pct, test_scores_logreg, label='Test Scores', marker='.')\n",
    "plt.plot(n_comp_pct, train_scores_logreg, label='Train Scores', marker='.')\n",
    "plt.xlabel('Number of components by % of Variance Explained')\n",
    "plt.ylabel('Score')\n",
    "plt.legend()\n",
    "plt.show()"
   ]
  },
  {
   "cell_type": "markdown",
   "metadata": {},
   "source": [
    "As you can see from the above plots, one great advantage of dimensionality reduction is that the models dont overfit to the data the more you reduce dimensions. As we capture more and more of the variance the training set is clearly overfitting. Also, as seen in the 'Time to fit\" graph, the more dimensions you reduce the less expensive the computational time.\n",
    "Another advantage for PCA is that it can be used to mitigate multicollinearity in the data. \n",
    "The obvious disadvantage then, naturally, is that the more dimensions you reduce, the lesser your model is learning from the remaining uncaptured variance in the data."
   ]
  },
  {
   "cell_type": "markdown",
   "metadata": {},
   "source": [
    "### Lets fit a KNN model to this data. "
   ]
  },
  {
   "cell_type": "code",
   "execution_count": 48,
   "metadata": {},
   "outputs": [],
   "source": [
    "from sklearn.neighbors import KNeighborsClassifier"
   ]
  },
  {
   "cell_type": "code",
   "execution_count": 49,
   "metadata": {},
   "outputs": [
    {
     "name": "stdout",
     "output_type": "stream",
     "text": [
      "0.7173833418797158\n",
      "0.6208614122472897\n"
     ]
    }
   ],
   "source": [
    "# Instantiate\n",
    "my_knn = KNeighborsClassifier(n_neighbors=5, n_jobs=-1)\n",
    "# Fit\n",
    "my_knn.fit(X_train_scaled, y_train)\n",
    "# Score\n",
    "print(my_knn.score(X_train_scaled, y_train))\n",
    "print(my_knn.score(X_test_scaled, y_test))"
   ]
  },
  {
   "cell_type": "markdown",
   "metadata": {},
   "source": [
    "The accuracy score on the test set is 62%."
   ]
  },
  {
   "cell_type": "code",
   "execution_count": 50,
   "metadata": {},
   "outputs": [],
   "source": [
    "# Making predictions for evaluating model\n",
    "y_pred2 = my_knn.predict(X_test_scaled)"
   ]
  },
  {
   "cell_type": "code",
   "execution_count": 51,
   "metadata": {},
   "outputs": [
    {
     "data": {
      "text/plain": [
       "<sklearn.metrics._plot.confusion_matrix.ConfusionMatrixDisplay at 0x24cdb9fa040>"
      ]
     },
     "execution_count": 51,
     "metadata": {},
     "output_type": "execute_result"
    },
    {
     "data": {
      "image/png": "[encoded data removed]",
      "text/plain": [
       "<Figure size 432x288 with 2 Axes>"
      ]
     },
     "metadata": {
      "needs_background": "light"
     },
     "output_type": "display_data"
    }
   ],
   "source": [
    "# Confusion Matrix for analysis\n",
    "conf_matrix_test2 = confusion_matrix(y_test, y_pred2)\n",
    "ConfusionMatrixDisplay(conf_matrix_test2, display_labels=[1,0]).plot()"
   ]
  },
  {
   "cell_type": "code",
   "execution_count": 52,
   "metadata": {
    "scrolled": true
   },
   "outputs": [
    {
     "name": "stdout",
     "output_type": "stream",
     "text": [
      "              precision    recall  f1-score   support\n",
      "\n",
      "         0.0       0.61      0.26      0.36      1429\n",
      "         1.0       0.62      0.88      0.73      1984\n",
      "\n",
      "    accuracy                           0.62      3413\n",
      "   macro avg       0.62      0.57      0.55      3413\n",
      "weighted avg       0.62      0.62      0.58      3413\n",
      "\n"
     ]
    }
   ],
   "source": [
    "# Printing a Classification Report\n",
    "print(classification_report(y_test, y_pred2))"
   ]
  },
  {
   "cell_type": "markdown",
   "metadata": {},
   "source": [
    "This KNN model is VERY good at capturing all of our positive class however performs terribly in capturing our negative class."
   ]
  },
  {
   "cell_type": "markdown",
   "metadata": {},
   "source": [
    "### KNN is a computationally expensive model. Let's reduce the number of observations (data points) in the dataset. "
   ]
  },
  {
   "cell_type": "code",
   "execution_count": 53,
   "metadata": {},
   "outputs": [],
   "source": [
    "# Trying different split sizes to see the runtime\n",
    "sample_sizes = np.array([.1, .25, .5, .75])\n",
    "train_accuracy_knn = []\n",
    "test_accuracy_knn = []\n",
    "time_knn = []\n",
    "\n",
    "#for loop to try different sample sizes and assess runtime\n",
    "for i in sample_sizes:\n",
    "    \n",
    "    # Splitting the data according to sample size (i)\n",
    "    X_trainknn = X_train.sample(frac=i, random_state = 3)\n",
    "    indexestrain = X_trainknn.index # Maintaining the indexes from the X_trainknn to apply to y_train\n",
    "    X_testknn = X_test.sample(frac=i, random_state = 3)\n",
    "    indexestest = X_testknn.index # Maintaining the indexes from the X_testknn to apply to y_test\n",
    "    y_trainknn = y_train[indexestrain]\n",
    "    y_testknn = y_test[indexestest]\n",
    "    \n",
    "    # Scaling\n",
    "    ss.fit(X_trainknn, y_trainknn)\n",
    "    # Transform\n",
    "    X_train_scaledknn = ss.transform(X_trainknn)\n",
    "    X_test_scaledknn = ss.transform(X_testknn)\n",
    "    \n",
    "    #instantiate\n",
    "    my_knn = KNeighborsClassifier(n_neighbors=5, n_jobs=-1)\n",
    "    \n",
    "    start_time = timeit.default_timer() # start timer\n",
    "    \n",
    "    #fit\n",
    "    my_knn.fit(X_train_scaledknn, y_trainknn)\n",
    "    \n",
    "    #evaluate and append scores for test and train set\n",
    "    train_acc = my_knn.score(X_train_scaledknn, y_trainknn)\n",
    "    test_acc = my_knn.score(X_test_scaledknn, y_testknn)\n",
    "    \n",
    "    end_time = timeit.default_timer() # end timer\n",
    "    \n",
    "    train_accuracy_knn.append(train_acc)\n",
    "    test_accuracy_knn.append(test_acc)\n",
    "    # append time taken\n",
    "    time_knn.append(end_time - start_time)"
   ]
  },
  {
   "cell_type": "markdown",
   "metadata": {},
   "source": [
    "### Let's look at relationship between the number of observations and run-time for KNN."
   ]
  },
  {
   "cell_type": "code",
   "execution_count": 54,
   "metadata": {},
   "outputs": [],
   "source": [
    "minutes_knn = []\n",
    "for number in time_knn:\n",
    "    minutes_knn.append(number / 60)"
   ]
  },
  {
   "cell_type": "code",
   "execution_count": 55,
   "metadata": {
    "scrolled": false
   },
   "outputs": [
    {
     "data": {
      "image/png": "[encoded data removed]",
      "text/plain": [
       "<Figure size 720x720 with 1 Axes>"
      ]
     },
     "metadata": {
      "needs_background": "light"
     },
     "output_type": "display_data"
    }
   ],
   "source": [
    "# Plotting the time it took to fit\n",
    "plt.figure(figsize=(10,10))\n",
    "plt.plot(sample_sizes,minutes_knn,marker='.')\n",
    "plt.xlabel('Sample Size taken for Test Set')\n",
    "plt.ylabel('Time taken (Minutes)')\n",
    "plt.title('Time to Fit')\n",
    "plt.show()"
   ]
  },
  {
   "cell_type": "code",
   "execution_count": 56,
   "metadata": {},
   "outputs": [
    {
     "data": {
      "text/html": [
       "<div>\n",
       "<style scoped>\n",
       "    .dataframe tbody tr th:only-of-type {\n",
       "        vertical-align: middle;\n",
       "    }\n",
       "\n",
       "    .dataframe tbody tr th {\n",
       "        vertical-align: top;\n",
       "    }\n",
       "\n",
       "    .dataframe thead th {\n",
       "        text-align: right;\n",
       "    }\n",
       "</style>\n",
       "<table border=\"1\" class=\"dataframe\">\n",
       "  <thead>\n",
       "    <tr style=\"text-align: right;\">\n",
       "      <th></th>\n",
       "      <th>Sample Sizes</th>\n",
       "      <th>Train Scores</th>\n",
       "      <th>Test Scores</th>\n",
       "      <th>Time Taken to Fit (Minutes)</th>\n",
       "    </tr>\n",
       "  </thead>\n",
       "  <tbody>\n",
       "    <tr>\n",
       "      <th>0</th>\n",
       "      <td>0.10</td>\n",
       "      <td>0.723077</td>\n",
       "      <td>0.586510</td>\n",
       "      <td>0.046733</td>\n",
       "    </tr>\n",
       "    <tr>\n",
       "      <th>1</th>\n",
       "      <td>0.25</td>\n",
       "      <td>0.632288</td>\n",
       "      <td>0.595545</td>\n",
       "      <td>0.274544</td>\n",
       "    </tr>\n",
       "    <tr>\n",
       "      <th>2</th>\n",
       "      <td>0.50</td>\n",
       "      <td>0.717844</td>\n",
       "      <td>0.600234</td>\n",
       "      <td>1.064884</td>\n",
       "    </tr>\n",
       "    <tr>\n",
       "      <th>3</th>\n",
       "      <td>0.75</td>\n",
       "      <td>0.728658</td>\n",
       "      <td>0.623828</td>\n",
       "      <td>2.364199</td>\n",
       "    </tr>\n",
       "  </tbody>\n",
       "</table>\n",
       "</div>"
      ],
      "text/plain": [
       "   Sample Sizes  Train Scores  Test Scores  Time Taken to Fit (Minutes)\n",
       "0          0.10      0.723077     0.586510                     0.046733\n",
       "1          0.25      0.632288     0.595545                     0.274544\n",
       "2          0.50      0.717844     0.600234                     1.064884\n",
       "3          0.75      0.728658     0.623828                     2.364199"
      ]
     },
     "execution_count": 56,
     "metadata": {},
     "output_type": "execute_result"
    }
   ],
   "source": [
    "KNN_Scores = pd.DataFrame({'Sample Sizes' : sample_sizes,\n",
    "                                'Train Scores' : train_accuracy_knn,\n",
    "                                'Test Scores' : test_accuracy_knn, 'Time Taken to Fit (Minutes)' : minutes_knn }, \n",
    "                                )\n",
    "KNN_Scores"
   ]
  },
  {
   "cell_type": "markdown",
   "metadata": {},
   "source": [
    "Clearly, the larger the number of observations, the slower the run time. This is because for a single classification of a data point 𝑎, we need to find the 𝐾(in our case, 5) neighbors closest to  𝑎 , which requires calculating the distance between  𝑎  and every single point in the training set. "
   ]
  },
  {
   "cell_type": "markdown",
   "metadata": {},
   "source": [
    "The one major advantage is the one realized above where run-time is significantly reduced and therefore less expensive computationally the more observations you reduce.\n",
    "The disadvantage to this is the obvious data loss which will ultimately reduce the complexity of the model. Also, if you reduce the number of observations by a lot for ex. less rows than columns, then the model will naturally overfit to the smaller number of observations and perform poorly on the test set as can be observed in the Dataframe above."
   ]
  },
  {
   "cell_type": "markdown",
   "metadata": {},
   "source": [
    "### Let's use the dataset to find an optimal value for K in the KNN algorithm. "
   ]
  },
  {
   "cell_type": "code",
   "execution_count": 57,
   "metadata": {},
   "outputs": [],
   "source": [
    "# Splitting the data into train and validation sets\n",
    "X_tr1, X_val1, y_tr1, y_val1 = \\\n",
    "    train_test_split(X_train_scaled, y_train, test_size = 0.3,\n",
    "                     random_state=1)"
   ]
  },
  {
   "cell_type": "code",
   "execution_count": 58,
   "metadata": {},
   "outputs": [],
   "source": [
    "# Running a loop to try different k_values\n",
    "\n",
    "val_scoresknn = []\n",
    "tr_scoresknn = []\n",
    "\n",
    "K_Neighbours = np.arange(1, 20 , 1)\n",
    "\n",
    "# linear search over the hyper parameter space\n",
    "for k in K_Neighbours:\n",
    "    \n",
    "    my_knn = KNeighborsClassifier(n_neighbors=k, n_jobs=-1)\n",
    "    my_knn.fit(X_tr1, y_tr1)\n",
    "\n",
    "    # Score on the train set and append this accuracy to its respective list\n",
    "    tr_scoresknn.append(my_knn.score(X_tr1, y_tr1))\n",
    "    # Score on the validation set and append this accuracy to its respective list\n",
    "    val_scoresknn.append(my_knn.score(X_val1, y_val1))"
   ]
  },
  {
   "cell_type": "code",
   "execution_count": 59,
   "metadata": {},
   "outputs": [
    {
     "data": {
      "image/png": "[encoded data removed]",
      "text/plain": [
       "<Figure size 432x288 with 1 Axes>"
      ]
     },
     "metadata": {
      "needs_background": "light"
     },
     "output_type": "display_data"
    }
   ],
   "source": [
    "# Plotting the accuracies against the k values\n",
    "plt.figure()\n",
    "plt.plot(K_Neighbours, tr_scoresknn,label=\"Train Score\",marker='.')\n",
    "plt.plot(K_Neighbours, val_scoresknn,label=\"Validation Scores\",marker='.')\n",
    "plt.xlabel('Number of Neighbours')\n",
    "plt.ylabel('Accuracy')\n",
    "plt.legend()\n",
    "plt.show();"
   ]
  },
  {
   "cell_type": "code",
   "execution_count": 60,
   "metadata": {},
   "outputs": [
    {
     "data": {
      "text/html": [
       "<div>\n",
       "<style scoped>\n",
       "    .dataframe tbody tr th:only-of-type {\n",
       "        vertical-align: middle;\n",
       "    }\n",
       "\n",
       "    .dataframe tbody tr th {\n",
       "        vertical-align: top;\n",
       "    }\n",
       "\n",
       "    .dataframe thead th {\n",
       "        text-align: right;\n",
       "    }\n",
       "</style>\n",
       "<table border=\"1\" class=\"dataframe\">\n",
       "  <thead>\n",
       "    <tr style=\"text-align: right;\">\n",
       "      <th></th>\n",
       "      <th>Number of Neighbours</th>\n",
       "      <th>Train Scores</th>\n",
       "      <th>Validation Scores</th>\n",
       "    </tr>\n",
       "  </thead>\n",
       "  <tbody>\n",
       "    <tr>\n",
       "      <th>0</th>\n",
       "      <td>1</td>\n",
       "      <td>1.000000</td>\n",
       "      <td>0.595459</td>\n",
       "    </tr>\n",
       "    <tr>\n",
       "      <th>1</th>\n",
       "      <td>2</td>\n",
       "      <td>0.872527</td>\n",
       "      <td>0.584229</td>\n",
       "    </tr>\n",
       "    <tr>\n",
       "      <th>2</th>\n",
       "      <td>3</td>\n",
       "      <td>0.769231</td>\n",
       "      <td>0.613281</td>\n",
       "    </tr>\n",
       "    <tr>\n",
       "      <th>3</th>\n",
       "      <td>4</td>\n",
       "      <td>0.788488</td>\n",
       "      <td>0.622070</td>\n",
       "    </tr>\n",
       "    <tr>\n",
       "      <th>4</th>\n",
       "      <td>5</td>\n",
       "      <td>0.717530</td>\n",
       "      <td>0.627930</td>\n",
       "    </tr>\n",
       "    <tr>\n",
       "      <th>5</th>\n",
       "      <td>6</td>\n",
       "      <td>0.739299</td>\n",
       "      <td>0.627441</td>\n",
       "    </tr>\n",
       "    <tr>\n",
       "      <th>6</th>\n",
       "      <td>7</td>\n",
       "      <td>0.697855</td>\n",
       "      <td>0.624512</td>\n",
       "    </tr>\n",
       "    <tr>\n",
       "      <th>7</th>\n",
       "      <td>8</td>\n",
       "      <td>0.720042</td>\n",
       "      <td>0.629639</td>\n",
       "    </tr>\n",
       "    <tr>\n",
       "      <th>8</th>\n",
       "      <td>9</td>\n",
       "      <td>0.678807</td>\n",
       "      <td>0.621582</td>\n",
       "    </tr>\n",
       "    <tr>\n",
       "      <th>9</th>\n",
       "      <td>10</td>\n",
       "      <td>0.703820</td>\n",
       "      <td>0.631104</td>\n",
       "    </tr>\n",
       "    <tr>\n",
       "      <th>10</th>\n",
       "      <td>11</td>\n",
       "      <td>0.664992</td>\n",
       "      <td>0.614502</td>\n",
       "    </tr>\n",
       "    <tr>\n",
       "      <th>11</th>\n",
       "      <td>12</td>\n",
       "      <td>0.686656</td>\n",
       "      <td>0.624756</td>\n",
       "    </tr>\n",
       "    <tr>\n",
       "      <th>12</th>\n",
       "      <td>13</td>\n",
       "      <td>0.651701</td>\n",
       "      <td>0.613770</td>\n",
       "    </tr>\n",
       "    <tr>\n",
       "      <th>13</th>\n",
       "      <td>14</td>\n",
       "      <td>0.677446</td>\n",
       "      <td>0.621094</td>\n",
       "    </tr>\n",
       "    <tr>\n",
       "      <th>14</th>\n",
       "      <td>15</td>\n",
       "      <td>0.643223</td>\n",
       "      <td>0.608887</td>\n",
       "    </tr>\n",
       "    <tr>\n",
       "      <th>15</th>\n",
       "      <td>16</td>\n",
       "      <td>0.668446</td>\n",
       "      <td>0.620117</td>\n",
       "    </tr>\n",
       "    <tr>\n",
       "      <th>16</th>\n",
       "      <td>17</td>\n",
       "      <td>0.638723</td>\n",
       "      <td>0.611328</td>\n",
       "    </tr>\n",
       "    <tr>\n",
       "      <th>17</th>\n",
       "      <td>18</td>\n",
       "      <td>0.659341</td>\n",
       "      <td>0.619629</td>\n",
       "    </tr>\n",
       "    <tr>\n",
       "      <th>18</th>\n",
       "      <td>19</td>\n",
       "      <td>0.632548</td>\n",
       "      <td>0.610352</td>\n",
       "    </tr>\n",
       "  </tbody>\n",
       "</table>\n",
       "</div>"
      ],
      "text/plain": [
       "    Number of Neighbours  Train Scores  Validation Scores\n",
       "0                      1      1.000000           0.595459\n",
       "1                      2      0.872527           0.584229\n",
       "2                      3      0.769231           0.613281\n",
       "3                      4      0.788488           0.622070\n",
       "4                      5      0.717530           0.627930\n",
       "5                      6      0.739299           0.627441\n",
       "6                      7      0.697855           0.624512\n",
       "7                      8      0.720042           0.629639\n",
       "8                      9      0.678807           0.621582\n",
       "9                     10      0.703820           0.631104\n",
       "10                    11      0.664992           0.614502\n",
       "11                    12      0.686656           0.624756\n",
       "12                    13      0.651701           0.613770\n",
       "13                    14      0.677446           0.621094\n",
       "14                    15      0.643223           0.608887\n",
       "15                    16      0.668446           0.620117\n",
       "16                    17      0.638723           0.611328\n",
       "17                    18      0.659341           0.619629\n",
       "18                    19      0.632548           0.610352"
      ]
     },
     "execution_count": 60,
     "metadata": {},
     "output_type": "execute_result"
    }
   ],
   "source": [
    "Kno = pd.DataFrame({'Number of Neighbours' : K_Neighbours,\n",
    "                                'Train Scores' : tr_scoresknn,\n",
    "                                'Validation Scores' : val_scoresknn}, \n",
    "                                )\n",
    "Kno"
   ]
  },
  {
   "cell_type": "markdown",
   "metadata": {},
   "source": [
    "It seems as if the best K_Neighbours values that gives the highest test percentages are 10 (63.1% Test Score) and 8 (62.9% Test Score). We will choose the K value of 8 in this instance as the model is overfitting lesser with a k value of 8 rather than 10."
   ]
  },
  {
   "cell_type": "code",
   "execution_count": 62,
   "metadata": {},
   "outputs": [
    {
     "name": "stdout",
     "output_type": "stream",
     "text": [
      "0.6258882133177056\n",
      "0.5977146205684148\n"
     ]
    }
   ],
   "source": [
    "# Running our model with the optimal K value of 8\n",
    "# Instantiate\n",
    "my_knn2 = KNeighborsClassifier(n_neighbors=8)\n",
    "# Fit\n",
    "my_knn2.fit(X_train_scaled, y_train)\n",
    "# Score\n",
    "print(my_knn.score(X_train_scaled, y_train))\n",
    "print(my_knn.score(X_test_scaled, y_test))"
   ]
  },
  {
   "cell_type": "code",
   "execution_count": 63,
   "metadata": {},
   "outputs": [
    {
     "name": "stdout",
     "output_type": "stream",
     "text": [
      "              precision    recall  f1-score   support\n",
      "\n",
      "         0.0       0.61      0.30      0.40      1429\n",
      "         1.0       0.63      0.86      0.73      1984\n",
      "\n",
      "    accuracy                           0.63      3413\n",
      "   macro avg       0.62      0.58      0.57      3413\n",
      "weighted avg       0.62      0.63      0.59      3413\n",
      "\n"
     ]
    },
    {
     "data": {
      "image/png": "[encoded data removed]",
      "text/plain": [
       "<Figure size 432x288 with 2 Axes>"
      ]
     },
     "metadata": {
      "needs_background": "light"
     },
     "output_type": "display_data"
    }
   ],
   "source": [
    "# Making predictions for evaluating model\n",
    "y_pred3 = my_knn2.predict(X_test_scaled)\n",
    "\n",
    "# Confusion Matrix for analysis\n",
    "conf_matrix_test3 = confusion_matrix(y_test, y_pred3)\n",
    "ConfusionMatrixDisplay(conf_matrix_test3, display_labels=[1,0]).plot()\n",
    "\n",
    "# Printing a Classification Report\n",
    "print(classification_report(y_test, y_pred3))"
   ]
  },
  {
   "cell_type": "markdown",
   "metadata": {},
   "source": [
    "### Let's fit a decision tree model to this data. "
   ]
  },
  {
   "cell_type": "code",
   "execution_count": 45,
   "metadata": {},
   "outputs": [],
   "source": [
    "from sklearn.tree import DecisionTreeClassifier"
   ]
  },
  {
   "cell_type": "code",
   "execution_count": 46,
   "metadata": {},
   "outputs": [
    {
     "name": "stdout",
     "output_type": "stream",
     "text": [
      "Train accuracy: 0.7206065489707714 | Test accuracy: 0.7251684734837387\n"
     ]
    }
   ],
   "source": [
    "# Instantiate\n",
    "D_tree = DecisionTreeClassifier(max_depth=3)\n",
    "\n",
    "# Fit\n",
    "D_tree.fit(X_train, y_train); # Note that we are not fitting to scaled data as Decision trees do not need scaled data to perform well\n",
    "\n",
    "# Score\n",
    "test_acc = D_tree.score(X_test, y_test)\n",
    "train_acc = D_tree.score(X_train, y_train)              \n",
    "\n",
    "print(f\"Train accuracy: {train_acc} | Test accuracy: {test_acc}\")"
   ]
  },
  {
   "cell_type": "code",
   "execution_count": 47,
   "metadata": {},
   "outputs": [],
   "source": [
    "# Making predictions for evaluating model\n",
    "y_pred4 = D_tree.predict(X_test)"
   ]
  },
  {
   "cell_type": "code",
   "execution_count": 48,
   "metadata": {},
   "outputs": [
    {
     "data": {
      "text/plain": [
       "<sklearn.metrics._plot.confusion_matrix.ConfusionMatrixDisplay at 0xc994208>"
      ]
     },
     "execution_count": 48,
     "metadata": {},
     "output_type": "execute_result"
    },
    {
     "data": {
      "image/png": "[encoded data removed]",
      "text/plain": [
       "<Figure size 432x288 with 2 Axes>"
      ]
     },
     "metadata": {
      "needs_background": "light"
     },
     "output_type": "display_data"
    }
   ],
   "source": [
    "# Confusion Matrix for analysis\n",
    "conf_matrix_test4 = confusion_matrix(y_test, y_pred4)\n",
    "ConfusionMatrixDisplay(conf_matrix_test4, display_labels=[1,0]).plot()"
   ]
  },
  {
   "cell_type": "code",
   "execution_count": 49,
   "metadata": {},
   "outputs": [
    {
     "name": "stdout",
     "output_type": "stream",
     "text": [
      "              precision    recall  f1-score   support\n",
      "\n",
      "         0.0       0.67      0.67      0.67      1429\n",
      "         1.0       0.76      0.77      0.76      1984\n",
      "\n",
      "    accuracy                           0.73      3413\n",
      "   macro avg       0.72      0.72      0.72      3413\n",
      "weighted avg       0.72      0.73      0.72      3413\n",
      "\n"
     ]
    }
   ],
   "source": [
    "# Printing a Classification Report\n",
    "print(classification_report(y_test, y_pred4))"
   ]
  },
  {
   "cell_type": "markdown",
   "metadata": {},
   "source": [
    "This model seems to be doing a decent job at capturing the positive class(High Recall) and has a precision of 76% for our positive class and 67% for our negative class."
   ]
  },
  {
   "cell_type": "markdown",
   "metadata": {},
   "source": [
    "### Let's use the data set (or a subsample) to find an optimal value for the maximum depth of the decision tree. "
   ]
  },
  {
   "cell_type": "code",
   "execution_count": 53,
   "metadata": {},
   "outputs": [],
   "source": [
    "# split train data set into train and validation\n",
    "X_tr2, X_val2, y_tr2, y_val2 = train_test_split(X_train, y_train, test_size = 0.3, random_state=1)"
   ]
  },
  {
   "cell_type": "code",
   "execution_count": 55,
   "metadata": {},
   "outputs": [],
   "source": [
    "# find the optimal maximum depth by comparing the training and validation score\n",
    "\n",
    "DTval_scores = []\n",
    "DTtr_scores = []\n",
    "\n",
    "max_depth_range = np.arange(1, 18)\n",
    "\n",
    "for d in max_depth_range:\n",
    "    my_DTree = DecisionTreeClassifier(max_depth = d)\n",
    "    my_DTree.fit(X_tr2, y_tr2)\n",
    "   \n",
    "    # score on traning set\n",
    "    DTtr_scores.append(my_DTree.score(X_tr2, y_tr2))\n",
    "    \n",
    "    # score on validation set\n",
    "    DTval_scores.append(my_DTree.score(X_val2, y_val2))"
   ]
  },
  {
   "cell_type": "code",
   "execution_count": 56,
   "metadata": {
    "scrolled": true
   },
   "outputs": [
    {
     "data": {
      "image/png": "[encoded data removed]",
      "text/plain": [
       "<Figure size 432x288 with 1 Axes>"
      ]
     },
     "metadata": {
      "needs_background": "light"
     },
     "output_type": "display_data"
    }
   ],
   "source": [
    "# Plotting the accuracies against the max_depth values\n",
    "plt.figure()\n",
    "plt.plot(max_depth_range, DTtr_scores,label=\"Train Score\",marker='.')\n",
    "plt.plot(max_depth_range, DTval_scores,label=\"Validation Scores\",marker='.')\n",
    "plt.xlabel('Max_Depth')\n",
    "plt.ylabel('Accuracy')\n",
    "plt.legend()\n",
    "plt.show();"
   ]
  },
  {
   "cell_type": "markdown",
   "metadata": {},
   "source": [
    "It seems as if the Max_Depth of 3 is best as there seems to be the least amount of overfitting and the test accuracy flattens. Luckily, when we first originally ran a decision tree, we chose this value(max_depth=3) so there is no need to do rerun the same thing."
   ]
  },
  {
   "cell_type": "markdown",
   "metadata": {},
   "source": [
    "Advantages :\n",
    "\n",
    "The biggest advantage of Decision tree vs KNN is that the decision tree can handle data by chaining together data points in a hierarchical way. The root of the decision tree is chosen by the high weighting of the attribute. Unlike KNN, it is not a distance-based classifier constrained to learning using distance from one vs all data points and for this reason it is a lot less expensive computationally. \n",
    "\n",
    "KNN can be sensitive to a feature's unit scale and requires us to normalize the data before using KNN classifiers. Since decision trees navigates through one feature at a time, normalization is not required. \n",
    "Decision trees are easy to interpret and explain to non-technical stakeholders as it is very easy to explain where and how the decisions were made in the model.\n",
    "\n",
    "Decision trees are not affected by outliers and can deal with a reasonable amount of missing values. \n",
    "\n",
    "\n",
    "Shortcomings:\n",
    "\n",
    "Decision trees tend to be very sensitive to minor changes in data, and can introduce serious biases as you navigate down the tree to lower nodes when you add new data. \n",
    "\n",
    "Decisions for DT are made based on the training set hence there is a high chance of overfitting and and therefore lower prediction accuracy than most other models. \n"
   ]
  },
  {
   "cell_type": "markdown",
   "metadata": {},
   "source": [
    "### Let's perform a 5-fold cross validation to optimize the hyperparameters of your model."
   ]
  },
  {
   "cell_type": "code",
   "execution_count": 57,
   "metadata": {},
   "outputs": [],
   "source": [
    "# Running a 5-fold CV to optimize our C value\n",
    "cross_validation_scores = []\n",
    "\n",
    "C_range = np.array([.00000001, .0000001, .000001, .00001, .0001, .001, .1,\n",
    "                    1, 10, 100, 1000, 10000, 100000, 1000000, 10000000, 100000000, 1000000000])\n",
    "\n",
    "# Do some cross validation\n",
    "for c in C_range:\n",
    "    LR_model = LogisticRegression(C=c, random_state=1, n_jobs=-1)\n",
    "\n",
    "    # the cross validation score (mean of scores from all folds)\n",
    "    cv_score = np.mean(cross_val_score(\n",
    "        LR_model, X_train_scaled, y_train, cv=5))\n",
    "\n",
    "    cross_validation_scores.append(cv_score)"
   ]
  },
  {
   "cell_type": "code",
   "execution_count": 58,
   "metadata": {},
   "outputs": [
    {
     "data": {
      "image/png": "[encoded data removed]",
      "text/plain": [
       "<Figure size 432x288 with 1 Axes>"
      ]
     },
     "metadata": {
      "needs_background": "light"
     },
     "output_type": "display_data"
    }
   ],
   "source": [
    "plt.figure()\n",
    "plt.plot(C_range, cross_validation_scores,\n",
    "         label=\"Average Cross Validation Score\", marker='.')\n",
    "plt.legend()\n",
    "plt.xscale(\"log\")\n",
    "plt.xlabel('Regularization Parameter: C')\n",
    "plt.ylabel('Cross Validation Score')\n",
    "plt.grid()\n",
    "plt.show()"
   ]
  },
  {
   "cell_type": "markdown",
   "metadata": {},
   "source": [
    "Looks like 10^-2 seems to have the best scores. Lets instantiate a model with C=0.01."
   ]
  },
  {
   "cell_type": "code",
   "execution_count": 15,
   "metadata": {},
   "outputs": [
    {
     "name": "stdout",
     "output_type": "stream",
     "text": [
      "0.8666031792542671\n",
      "0.757691180779373\n"
     ]
    }
   ],
   "source": [
    "# Fit the final Logistic Regression with the optimal C-Value\n",
    "# Instantiate \n",
    "logregfin = LogisticRegression(solver='lbfgs', C=0.01, random_state=1)\n",
    "\n",
    "# Fit\n",
    "logregfin.fit(X_train_scaled, y_train)\n",
    "\n",
    "# Score on training data\n",
    "print(logregfin.score(X_train_scaled, y_train))\n",
    "\n",
    "# Score on testing data\n",
    "print(logregfin.score(X_test_scaled, y_test))"
   ]
  },
  {
   "cell_type": "code",
   "execution_count": 16,
   "metadata": {},
   "outputs": [],
   "source": [
    "# Making predictions for evaluating model\n",
    "y_pred5 = logregfin.predict(X_test_scaled)"
   ]
  },
  {
   "cell_type": "code",
   "execution_count": 17,
   "metadata": {},
   "outputs": [
    {
     "data": {
      "text/plain": [
       "<sklearn.metrics._plot.confusion_matrix.ConfusionMatrixDisplay at 0xbc93288>"
      ]
     },
     "execution_count": 17,
     "metadata": {},
     "output_type": "execute_result"
    },
    {
     "data": {
      "image/png": "[encoded data removed]",
      "text/plain": [
       "<Figure size 432x288 with 2 Axes>"
      ]
     },
     "metadata": {
      "needs_background": "light"
     },
     "output_type": "display_data"
    }
   ],
   "source": [
    "# Confusion Matrix for analysis\n",
    "conf_matrix_test5 = confusion_matrix(y_test, y_pred5)\n",
    "ConfusionMatrixDisplay(conf_matrix_test5, display_labels=[1,0]).plot()"
   ]
  },
  {
   "cell_type": "code",
   "execution_count": 18,
   "metadata": {},
   "outputs": [
    {
     "name": "stdout",
     "output_type": "stream",
     "text": [
      "              precision    recall  f1-score   support\n",
      "\n",
      "         0.0       0.72      0.69      0.71      1429\n",
      "         1.0       0.78      0.80      0.79      1984\n",
      "\n",
      "    accuracy                           0.76      3413\n",
      "   macro avg       0.75      0.75      0.75      3413\n",
      "weighted avg       0.76      0.76      0.76      3413\n",
      "\n"
     ]
    }
   ],
   "source": [
    "# Printing a Classification Report\n",
    "print(classification_report(y_test, y_pred5))"
   ]
  },
  {
   "cell_type": "markdown",
   "metadata": {},
   "source": [
    "Great! This is the best classification report we have seen thus far. The model seems to be capturing more of the negative reviews correctly (previously we have only seen a high recall for the positive reviews) and our precision on accurately indentifying the positive and negative reviews is also quite high."
   ]
  },
  {
   "cell_type": "markdown",
   "metadata": {},
   "source": [
    "From our first logistic regression model, we saw that Average_Score had a high coefficient value and is top contributer in predicting positive reviews. If we can fine-tune this column we may get improved accuracy. Note: This score is not the same as the Reviewer_Score."
   ]
  },
  {
   "cell_type": "code",
   "execution_count": 19,
   "metadata": {},
   "outputs": [
    {
     "data": {
      "text/plain": [
       "8.7    1234\n",
       "8.1    1108\n",
       "8.4     964\n",
       "8.3     911\n",
       "8.2     822\n",
       "8.6     808\n",
       "8.5     778\n",
       "8.9     768\n",
       "8.8     752\n",
       "7.8     727\n",
       "9.0     620\n",
       "9.1     534\n",
       "8.0     532\n",
       "7.5     438\n",
       "9.4     371\n",
       "7.7     354\n",
       "7.9     323\n",
       "7.1     320\n",
       "9.3     259\n",
       "9.2     250\n",
       "7.4     144\n",
       "7.6     129\n",
       "7.0     122\n",
       "7.3     111\n",
       "6.9      77\n",
       "6.8      56\n",
       "6.4      43\n",
       "6.7      36\n",
       "9.5      25\n",
       "6.6      24\n",
       "9.6      11\n",
       "Name: Average_Score, dtype: int64"
      ]
     },
     "execution_count": 19,
     "metadata": {},
     "output_type": "execute_result"
    }
   ],
   "source": [
    "#Taking a look at the Average score column\n",
    "X_train['Average_Score'].value_counts(ascending=False)"
   ]
  },
  {
   "cell_type": "code",
   "execution_count": 20,
   "metadata": {},
   "outputs": [
    {
     "name": "stdout",
     "output_type": "stream",
     "text": [
      "6.4\n",
      "9.6\n"
     ]
    }
   ],
   "source": [
    "#Checking the Minimum and Maximum scores\n",
    "print(X_train['Average_Score'].min())\n",
    "print(X_train['Average_Score'].max())"
   ]
  },
  {
   "cell_type": "code",
   "execution_count": 21,
   "metadata": {},
   "outputs": [
    {
     "data": {
      "image/png": "[encoded data removed]",
      "text/plain": [
       "<Figure size 432x288 with 1 Axes>"
      ]
     },
     "metadata": {
      "needs_background": "light"
     },
     "output_type": "display_data"
    }
   ],
   "source": [
    "# Checking the distribution\n",
    "values, counts = np.unique(X_train['Average_Score'], return_counts=True)\n",
    "plt.figure()\n",
    "plt.bar(values, counts)\n",
    "plt.xlabel('Average rating')\n",
    "plt.ylabel('Count of ratings')\n",
    "plt.show()"
   ]
  },
  {
   "cell_type": "markdown",
   "metadata": {},
   "source": [
    "The distribution tends to be centered around 8.5 so lets remap this column where if the Average Score is less than 8.5 then we assign it a 0 and a 1 if its higher than or equal to 8.5."
   ]
  },
  {
   "cell_type": "code",
   "execution_count": 22,
   "metadata": {},
   "outputs": [],
   "source": [
    "# Making Copies of X_train and X_test\n",
    "X_traincopy = X_train.copy()\n",
    "X_testcopy = X_test.copy()"
   ]
  },
  {
   "cell_type": "code",
   "execution_count": 23,
   "metadata": {},
   "outputs": [],
   "source": [
    "# Adding new column with our binary classification\n",
    "X_traincopy['High_Avg_Score'] = X_traincopy['Average_Score'].apply(lambda x: 1 if x >= 8.5 else 0)"
   ]
  },
  {
   "cell_type": "code",
   "execution_count": 24,
   "metadata": {
    "scrolled": true
   },
   "outputs": [
    {
     "data": {
      "text/plain": [
       "0    7241\n",
       "1    6410\n",
       "Name: High_Avg_Score, dtype: int64"
      ]
     },
     "execution_count": 24,
     "metadata": {},
     "output_type": "execute_result"
    }
   ],
   "source": [
    "# Check\n",
    "X_traincopy['High_Avg_Score'].value_counts()"
   ]
  },
  {
   "cell_type": "code",
   "execution_count": 25,
   "metadata": {},
   "outputs": [],
   "source": [
    "# Doing the same with the test set\n",
    "X_testcopy['High_Avg_Score'] = X_testcopy['Average_Score'].apply(lambda x: 1 if x >= 8.5 else 0)"
   ]
  },
  {
   "cell_type": "code",
   "execution_count": 26,
   "metadata": {},
   "outputs": [
    {
     "data": {
      "text/plain": [
       "0    1784\n",
       "1    1629\n",
       "Name: High_Avg_Score, dtype: int64"
      ]
     },
     "execution_count": 26,
     "metadata": {},
     "output_type": "execute_result"
    }
   ],
   "source": [
    "# Check\n",
    "X_testcopy['High_Avg_Score'].value_counts()"
   ]
  },
  {
   "cell_type": "code",
   "execution_count": 27,
   "metadata": {},
   "outputs": [],
   "source": [
    "# Lets drop the Average_score columns from both the train and test set since we will no longer be needing it\n",
    "X_testcopy.drop(['Average_Score'], axis = 1, inplace = True)\n",
    "X_traincopy.drop(['Average_Score'], axis = 1, inplace = True)"
   ]
  },
  {
   "cell_type": "code",
   "execution_count": 28,
   "metadata": {},
   "outputs": [
    {
     "data": {
      "text/html": [
       "<div>\n",
       "<style scoped>\n",
       "    .dataframe tbody tr th:only-of-type {\n",
       "        vertical-align: middle;\n",
       "    }\n",
       "\n",
       "    .dataframe tbody tr th {\n",
       "        vertical-align: top;\n",
       "    }\n",
       "\n",
       "    .dataframe thead th {\n",
       "        text-align: right;\n",
       "    }\n",
       "</style>\n",
       "<table border=\"1\" class=\"dataframe\">\n",
       "  <thead>\n",
       "    <tr style=\"text-align: right;\">\n",
       "      <th></th>\n",
       "      <th>Additional_Number_of_Scoring</th>\n",
       "      <th>Review_Total_Negative_Word_Counts</th>\n",
       "      <th>Total_Number_of_Reviews</th>\n",
       "      <th>Review_Total_Positive_Word_Counts</th>\n",
       "      <th>Total_Number_of_Reviews_Reviewer_Has_Given</th>\n",
       "      <th>days_since_review</th>\n",
       "      <th>lat</th>\n",
       "      <th>lng</th>\n",
       "      <th>Review_Month</th>\n",
       "      <th>Review_Day</th>\n",
       "      <th>...</th>\n",
       "      <th>p_working</th>\n",
       "      <th>p_world</th>\n",
       "      <th>p_worth</th>\n",
       "      <th>p_wouldn</th>\n",
       "      <th>p_year</th>\n",
       "      <th>p_years</th>\n",
       "      <th>p_yes</th>\n",
       "      <th>p_young</th>\n",
       "      <th>p_yummy</th>\n",
       "      <th>High_Avg_Score</th>\n",
       "    </tr>\n",
       "  </thead>\n",
       "  <tbody>\n",
       "    <tr>\n",
       "      <th>0</th>\n",
       "      <td>2288.0</td>\n",
       "      <td>24.0</td>\n",
       "      <td>9568.0</td>\n",
       "      <td>16.0</td>\n",
       "      <td>1.0</td>\n",
       "      <td>527.0</td>\n",
       "      <td>51.511099</td>\n",
       "      <td>-0.120867</td>\n",
       "      <td>2.0</td>\n",
       "      <td>23.0</td>\n",
       "      <td>...</td>\n",
       "      <td>0.0</td>\n",
       "      <td>0.0</td>\n",
       "      <td>0.0</td>\n",
       "      <td>0.0</td>\n",
       "      <td>0.0</td>\n",
       "      <td>0.0</td>\n",
       "      <td>0.0</td>\n",
       "      <td>0.0</td>\n",
       "      <td>0.0</td>\n",
       "      <td>0</td>\n",
       "    </tr>\n",
       "    <tr>\n",
       "      <th>1</th>\n",
       "      <td>61.0</td>\n",
       "      <td>0.0</td>\n",
       "      <td>263.0</td>\n",
       "      <td>21.0</td>\n",
       "      <td>1.0</td>\n",
       "      <td>527.0</td>\n",
       "      <td>51.522636</td>\n",
       "      <td>-0.160287</td>\n",
       "      <td>2.0</td>\n",
       "      <td>23.0</td>\n",
       "      <td>...</td>\n",
       "      <td>0.0</td>\n",
       "      <td>0.0</td>\n",
       "      <td>0.0</td>\n",
       "      <td>0.0</td>\n",
       "      <td>0.0</td>\n",
       "      <td>0.0</td>\n",
       "      <td>0.0</td>\n",
       "      <td>0.0</td>\n",
       "      <td>0.0</td>\n",
       "      <td>1</td>\n",
       "    </tr>\n",
       "    <tr>\n",
       "      <th>2</th>\n",
       "      <td>974.0</td>\n",
       "      <td>20.0</td>\n",
       "      <td>3040.0</td>\n",
       "      <td>20.0</td>\n",
       "      <td>12.0</td>\n",
       "      <td>485.0</td>\n",
       "      <td>51.500732</td>\n",
       "      <td>-0.016550</td>\n",
       "      <td>4.0</td>\n",
       "      <td>5.0</td>\n",
       "      <td>...</td>\n",
       "      <td>0.0</td>\n",
       "      <td>0.0</td>\n",
       "      <td>0.0</td>\n",
       "      <td>0.0</td>\n",
       "      <td>0.0</td>\n",
       "      <td>0.0</td>\n",
       "      <td>0.0</td>\n",
       "      <td>0.0</td>\n",
       "      <td>0.0</td>\n",
       "      <td>1</td>\n",
       "    </tr>\n",
       "    <tr>\n",
       "      <th>3</th>\n",
       "      <td>838.0</td>\n",
       "      <td>23.0</td>\n",
       "      <td>3274.0</td>\n",
       "      <td>29.0</td>\n",
       "      <td>5.0</td>\n",
       "      <td>415.0</td>\n",
       "      <td>51.495666</td>\n",
       "      <td>-0.145279</td>\n",
       "      <td>6.0</td>\n",
       "      <td>14.0</td>\n",
       "      <td>...</td>\n",
       "      <td>0.0</td>\n",
       "      <td>0.0</td>\n",
       "      <td>0.0</td>\n",
       "      <td>0.0</td>\n",
       "      <td>0.0</td>\n",
       "      <td>0.0</td>\n",
       "      <td>0.0</td>\n",
       "      <td>0.0</td>\n",
       "      <td>0.0</td>\n",
       "      <td>0</td>\n",
       "    </tr>\n",
       "    <tr>\n",
       "      <th>4</th>\n",
       "      <td>879.0</td>\n",
       "      <td>48.0</td>\n",
       "      <td>2768.0</td>\n",
       "      <td>51.0</td>\n",
       "      <td>1.0</td>\n",
       "      <td>385.0</td>\n",
       "      <td>51.508354</td>\n",
       "      <td>0.019886</td>\n",
       "      <td>7.0</td>\n",
       "      <td>14.0</td>\n",
       "      <td>...</td>\n",
       "      <td>0.0</td>\n",
       "      <td>0.0</td>\n",
       "      <td>0.0</td>\n",
       "      <td>0.0</td>\n",
       "      <td>0.0</td>\n",
       "      <td>0.0</td>\n",
       "      <td>0.0</td>\n",
       "      <td>0.0</td>\n",
       "      <td>0.0</td>\n",
       "      <td>1</td>\n",
       "    </tr>\n",
       "  </tbody>\n",
       "</table>\n",
       "<p>5 rows × 2586 columns</p>\n",
       "</div>"
      ],
      "text/plain": [
       "   Additional_Number_of_Scoring  Review_Total_Negative_Word_Counts  \\\n",
       "0                        2288.0                               24.0   \n",
       "1                          61.0                                0.0   \n",
       "2                         974.0                               20.0   \n",
       "3                         838.0                               23.0   \n",
       "4                         879.0                               48.0   \n",
       "\n",
       "   Total_Number_of_Reviews  Review_Total_Positive_Word_Counts  \\\n",
       "0                   9568.0                               16.0   \n",
       "1                    263.0                               21.0   \n",
       "2                   3040.0                               20.0   \n",
       "3                   3274.0                               29.0   \n",
       "4                   2768.0                               51.0   \n",
       "\n",
       "   Total_Number_of_Reviews_Reviewer_Has_Given  days_since_review        lat  \\\n",
       "0                                         1.0              527.0  51.511099   \n",
       "1                                         1.0              527.0  51.522636   \n",
       "2                                        12.0              485.0  51.500732   \n",
       "3                                         5.0              415.0  51.495666   \n",
       "4                                         1.0              385.0  51.508354   \n",
       "\n",
       "        lng  Review_Month  Review_Day  ...  p_working  p_world  p_worth  \\\n",
       "0 -0.120867           2.0        23.0  ...        0.0      0.0      0.0   \n",
       "1 -0.160287           2.0        23.0  ...        0.0      0.0      0.0   \n",
       "2 -0.016550           4.0         5.0  ...        0.0      0.0      0.0   \n",
       "3 -0.145279           6.0        14.0  ...        0.0      0.0      0.0   \n",
       "4  0.019886           7.0        14.0  ...        0.0      0.0      0.0   \n",
       "\n",
       "   p_wouldn  p_year  p_years  p_yes  p_young  p_yummy  High_Avg_Score  \n",
       "0       0.0     0.0      0.0    0.0      0.0      0.0               0  \n",
       "1       0.0     0.0      0.0    0.0      0.0      0.0               1  \n",
       "2       0.0     0.0      0.0    0.0      0.0      0.0               1  \n",
       "3       0.0     0.0      0.0    0.0      0.0      0.0               0  \n",
       "4       0.0     0.0      0.0    0.0      0.0      0.0               1  \n",
       "\n",
       "[5 rows x 2586 columns]"
      ]
     },
     "execution_count": 28,
     "metadata": {},
     "output_type": "execute_result"
    }
   ],
   "source": [
    "#Check\n",
    "X_testcopy.head()"
   ]
  },
  {
   "cell_type": "code",
   "execution_count": 29,
   "metadata": {},
   "outputs": [
    {
     "data": {
      "text/html": [
       "<div>\n",
       "<style scoped>\n",
       "    .dataframe tbody tr th:only-of-type {\n",
       "        vertical-align: middle;\n",
       "    }\n",
       "\n",
       "    .dataframe tbody tr th {\n",
       "        vertical-align: top;\n",
       "    }\n",
       "\n",
       "    .dataframe thead th {\n",
       "        text-align: right;\n",
       "    }\n",
       "</style>\n",
       "<table border=\"1\" class=\"dataframe\">\n",
       "  <thead>\n",
       "    <tr style=\"text-align: right;\">\n",
       "      <th></th>\n",
       "      <th>Additional_Number_of_Scoring</th>\n",
       "      <th>Review_Total_Negative_Word_Counts</th>\n",
       "      <th>Total_Number_of_Reviews</th>\n",
       "      <th>Review_Total_Positive_Word_Counts</th>\n",
       "      <th>Total_Number_of_Reviews_Reviewer_Has_Given</th>\n",
       "      <th>days_since_review</th>\n",
       "      <th>lat</th>\n",
       "      <th>lng</th>\n",
       "      <th>Review_Month</th>\n",
       "      <th>Review_Day</th>\n",
       "      <th>...</th>\n",
       "      <th>p_working</th>\n",
       "      <th>p_world</th>\n",
       "      <th>p_worth</th>\n",
       "      <th>p_wouldn</th>\n",
       "      <th>p_year</th>\n",
       "      <th>p_years</th>\n",
       "      <th>p_yes</th>\n",
       "      <th>p_young</th>\n",
       "      <th>p_yummy</th>\n",
       "      <th>High_Avg_Score</th>\n",
       "    </tr>\n",
       "  </thead>\n",
       "  <tbody>\n",
       "    <tr>\n",
       "      <th>0</th>\n",
       "      <td>220.0</td>\n",
       "      <td>20.0</td>\n",
       "      <td>902.0</td>\n",
       "      <td>21.0</td>\n",
       "      <td>1.0</td>\n",
       "      <td>275.0</td>\n",
       "      <td>51.494308</td>\n",
       "      <td>-0.175558</td>\n",
       "      <td>11.0</td>\n",
       "      <td>1.0</td>\n",
       "      <td>...</td>\n",
       "      <td>0.0</td>\n",
       "      <td>0.0</td>\n",
       "      <td>0.0</td>\n",
       "      <td>0.0</td>\n",
       "      <td>0.0</td>\n",
       "      <td>0.000000</td>\n",
       "      <td>0.0</td>\n",
       "      <td>0.0</td>\n",
       "      <td>0.0</td>\n",
       "      <td>1</td>\n",
       "    </tr>\n",
       "    <tr>\n",
       "      <th>1</th>\n",
       "      <td>1190.0</td>\n",
       "      <td>5.0</td>\n",
       "      <td>5180.0</td>\n",
       "      <td>23.0</td>\n",
       "      <td>6.0</td>\n",
       "      <td>481.0</td>\n",
       "      <td>51.514879</td>\n",
       "      <td>-0.160650</td>\n",
       "      <td>4.0</td>\n",
       "      <td>9.0</td>\n",
       "      <td>...</td>\n",
       "      <td>0.0</td>\n",
       "      <td>0.0</td>\n",
       "      <td>0.0</td>\n",
       "      <td>0.0</td>\n",
       "      <td>0.0</td>\n",
       "      <td>0.425849</td>\n",
       "      <td>0.0</td>\n",
       "      <td>0.0</td>\n",
       "      <td>0.0</td>\n",
       "      <td>0</td>\n",
       "    </tr>\n",
       "    <tr>\n",
       "      <th>2</th>\n",
       "      <td>299.0</td>\n",
       "      <td>81.0</td>\n",
       "      <td>1361.0</td>\n",
       "      <td>27.0</td>\n",
       "      <td>4.0</td>\n",
       "      <td>672.0</td>\n",
       "      <td>51.521009</td>\n",
       "      <td>-0.123097</td>\n",
       "      <td>10.0</td>\n",
       "      <td>1.0</td>\n",
       "      <td>...</td>\n",
       "      <td>0.0</td>\n",
       "      <td>0.0</td>\n",
       "      <td>0.0</td>\n",
       "      <td>0.0</td>\n",
       "      <td>0.0</td>\n",
       "      <td>0.000000</td>\n",
       "      <td>0.0</td>\n",
       "      <td>0.0</td>\n",
       "      <td>0.0</td>\n",
       "      <td>0</td>\n",
       "    </tr>\n",
       "    <tr>\n",
       "      <th>3</th>\n",
       "      <td>87.0</td>\n",
       "      <td>17.0</td>\n",
       "      <td>355.0</td>\n",
       "      <td>13.0</td>\n",
       "      <td>7.0</td>\n",
       "      <td>412.0</td>\n",
       "      <td>51.499749</td>\n",
       "      <td>-0.161524</td>\n",
       "      <td>6.0</td>\n",
       "      <td>17.0</td>\n",
       "      <td>...</td>\n",
       "      <td>0.0</td>\n",
       "      <td>0.0</td>\n",
       "      <td>0.0</td>\n",
       "      <td>0.0</td>\n",
       "      <td>0.0</td>\n",
       "      <td>0.000000</td>\n",
       "      <td>0.0</td>\n",
       "      <td>0.0</td>\n",
       "      <td>0.0</td>\n",
       "      <td>1</td>\n",
       "    </tr>\n",
       "    <tr>\n",
       "      <th>4</th>\n",
       "      <td>317.0</td>\n",
       "      <td>14.0</td>\n",
       "      <td>1458.0</td>\n",
       "      <td>0.0</td>\n",
       "      <td>1.0</td>\n",
       "      <td>499.0</td>\n",
       "      <td>51.516114</td>\n",
       "      <td>-0.174952</td>\n",
       "      <td>3.0</td>\n",
       "      <td>22.0</td>\n",
       "      <td>...</td>\n",
       "      <td>0.0</td>\n",
       "      <td>0.0</td>\n",
       "      <td>0.0</td>\n",
       "      <td>0.0</td>\n",
       "      <td>0.0</td>\n",
       "      <td>0.000000</td>\n",
       "      <td>0.0</td>\n",
       "      <td>0.0</td>\n",
       "      <td>0.0</td>\n",
       "      <td>0</td>\n",
       "    </tr>\n",
       "  </tbody>\n",
       "</table>\n",
       "<p>5 rows × 2586 columns</p>\n",
       "</div>"
      ],
      "text/plain": [
       "   Additional_Number_of_Scoring  Review_Total_Negative_Word_Counts  \\\n",
       "0                         220.0                               20.0   \n",
       "1                        1190.0                                5.0   \n",
       "2                         299.0                               81.0   \n",
       "3                          87.0                               17.0   \n",
       "4                         317.0                               14.0   \n",
       "\n",
       "   Total_Number_of_Reviews  Review_Total_Positive_Word_Counts  \\\n",
       "0                    902.0                               21.0   \n",
       "1                   5180.0                               23.0   \n",
       "2                   1361.0                               27.0   \n",
       "3                    355.0                               13.0   \n",
       "4                   1458.0                                0.0   \n",
       "\n",
       "   Total_Number_of_Reviews_Reviewer_Has_Given  days_since_review        lat  \\\n",
       "0                                         1.0              275.0  51.494308   \n",
       "1                                         6.0              481.0  51.514879   \n",
       "2                                         4.0              672.0  51.521009   \n",
       "3                                         7.0              412.0  51.499749   \n",
       "4                                         1.0              499.0  51.516114   \n",
       "\n",
       "        lng  Review_Month  Review_Day  ...  p_working  p_world  p_worth  \\\n",
       "0 -0.175558          11.0         1.0  ...        0.0      0.0      0.0   \n",
       "1 -0.160650           4.0         9.0  ...        0.0      0.0      0.0   \n",
       "2 -0.123097          10.0         1.0  ...        0.0      0.0      0.0   \n",
       "3 -0.161524           6.0        17.0  ...        0.0      0.0      0.0   \n",
       "4 -0.174952           3.0        22.0  ...        0.0      0.0      0.0   \n",
       "\n",
       "   p_wouldn  p_year   p_years  p_yes  p_young  p_yummy  High_Avg_Score  \n",
       "0       0.0     0.0  0.000000    0.0      0.0      0.0               1  \n",
       "1       0.0     0.0  0.425849    0.0      0.0      0.0               0  \n",
       "2       0.0     0.0  0.000000    0.0      0.0      0.0               0  \n",
       "3       0.0     0.0  0.000000    0.0      0.0      0.0               1  \n",
       "4       0.0     0.0  0.000000    0.0      0.0      0.0               0  \n",
       "\n",
       "[5 rows x 2586 columns]"
      ]
     },
     "execution_count": 29,
     "metadata": {},
     "output_type": "execute_result"
    }
   ],
   "source": [
    "#Check\n",
    "X_traincopy.head()"
   ]
  },
  {
   "cell_type": "markdown",
   "metadata": {},
   "source": [
    "Let's run the model from earlier and re-optimize the hyperparameters."
   ]
  },
  {
   "cell_type": "code",
   "execution_count": 30,
   "metadata": {},
   "outputs": [],
   "source": [
    "#Scaling the new copies\n",
    "# Fit - ONLY ON THE TRAIN SET\n",
    "ss.fit(X_traincopy, y_train)\n",
    "# Transform\n",
    "Xtr_copyss = ss.transform(X_traincopy)\n",
    "Xtest_copyss = ss.transform(X_testcopy)"
   ]
  },
  {
   "cell_type": "code",
   "execution_count": null,
   "metadata": {},
   "outputs": [],
   "source": [
    "# Because of run time, we will run a smaller range of C values that performed the best on the prev model"
   ]
  },
  {
   "cell_type": "code",
   "execution_count": 32,
   "metadata": {},
   "outputs": [],
   "source": [
    "# Running a 5-fold CV to optimize our C value\n",
    "cross_validation_scores2 = []\n",
    "\n",
    "C_range2 = np.array([.0001, .001, .1,\n",
    "                    1, 10])\n",
    "\n",
    "# Do some cross validation\n",
    "for c in C_range:\n",
    "    LR_model2 = LogisticRegression(C=c, random_state=1, n_jobs=-1)\n",
    "\n",
    "    # the cross validation score (mean of scores from all folds)\n",
    "    cv_score = np.mean(cross_val_score(\n",
    "        LR_model2, Xtr_copyss, y_train, cv=5))\n",
    "\n",
    "    cross_validation_scores2.append(cv_score)"
   ]
  },
  {
   "cell_type": "code",
   "execution_count": 33,
   "metadata": {},
   "outputs": [
    {
     "data": {
      "image/png": "[encoded data removed]",
      "text/plain": [
       "<Figure size 432x288 with 1 Axes>"
      ]
     },
     "metadata": {
      "needs_background": "light"
     },
     "output_type": "display_data"
    }
   ],
   "source": [
    "plt.figure()\n",
    "plt.plot(C_range2, cross_validation_scores2,\n",
    "         label=\"Average Cross Validation Score\", marker='.')\n",
    "plt.legend()\n",
    "plt.xscale(\"log\")\n",
    "plt.xlabel('Regularization Parameter: C')\n",
    "plt.ylabel('Cross Validation Score')\n",
    "plt.grid()\n",
    "plt.show()"
   ]
  },
  {
   "cell_type": "code",
   "execution_count": 35,
   "metadata": {},
   "outputs": [
    {
     "name": "stdout",
     "output_type": "stream",
     "text": [
      "0.8249945058970038\n",
      "0.7770290067389394\n"
     ]
    }
   ],
   "source": [
    "# Fit the final Logistic Regression with the optimal C-Value\n",
    "# Instantiate \n",
    "logregfin2 = LogisticRegression(solver='lbfgs', C=.0001 , random_state = 1)\n",
    "\n",
    "# Fit\n",
    "logregfin2.fit(Xtr_copyss, y_train)\n",
    "\n",
    "# Score on training data\n",
    "print(logregfin2.score(Xtr_copyss, y_train))\n",
    "\n",
    "# Score on testing data\n",
    "print(logregfin2.score(Xtest_copyss, y_test))"
   ]
  },
  {
   "cell_type": "markdown",
   "metadata": {},
   "source": [
    "Cool! Our new model with our designed feature performs the best on the test set! The training set is also overfitting less to the training data!"
   ]
  }
 ],
 "metadata": {
  "kernelspec": {
   "display_name": "Python 3",
   "language": "python",
   "name": "python3"
  },
  "language_info": {
   "codemirror_mode": {
    "name": "ipython",
    "version": 3
   },
   "file_extension": ".py",
   "mimetype": "text/x-python",
   "name": "python",
   "nbconvert_exporter": "python",
   "pygments_lexer": "ipython3",
   "version": "3.8.3"
  }
 },
 "nbformat": 4,
 "nbformat_minor": 4
}
